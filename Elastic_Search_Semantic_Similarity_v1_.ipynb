{
  "nbformat": 4,
  "nbformat_minor": 0,
  "metadata": {
    "colab": {
      "provenance": [],
      "toc_visible": true
    },
    "kernelspec": {
      "name": "python3",
      "display_name": "Python 3"
    }
  },
  "cells": [
    {
      "cell_type": "markdown",
      "metadata": {
        "id": "-GXJ6jG3qsYt"
      },
      "source": [
        "# ElasticSearch integrated BERT Model for iKnowledge dataset v1\n",
        "\n",
        "This notebook will help you search through the articles present in the iKnowledge Management database. The query matching is done with the help of elastic search which evaluates based on the score of cosine similarity.\n",
        "\n",
        "This is simple version which retrieves articles quickly. This can be fine-tuned for heavier datasets.\n",
        "\n",
        "Pre-requisities/Lookout(s):\n",
        "\n",
        "\n",
        "*   Set up the server 3.1.26.243 using AWS before using this notebook.\n",
        "*   Finish setting up the API as given in the steps and proceed with the bulk indexing.\n",
        "*   The dataset/json file is to be uploaded from local.\n",
        "\n",
        "---\n",
        "---\n",
        "\n",
        "\n",
        "Done by : Emmanuel Rajapandian\n",
        "\n",
        "Dated : 23-07-2020\n",
        "\n",
        "---\n",
        "---\n",
        "\n"
      ]
    },
    {
      "cell_type": "markdown",
      "metadata": {
        "id": "jrC9__lXxTJz"
      },
      "source": [
        "# Contents"
      ]
    },
    {
      "cell_type": "markdown",
      "metadata": {
        "id": "p9MCBOq4xUpr"
      },
      "source": [
        "See \"Table of contents\" in the sidebar to the left."
      ]
    },
    {
      "cell_type": "markdown",
      "metadata": {
        "id": "g6NyP6hYPBx_"
      },
      "source": [
        "# 1. Setup\n",
        "\n",
        "*Follow the procedure in the order of the cells and you will be able to use the ElasticSearch BERT model.*"
      ]
    },
    {
      "cell_type": "markdown",
      "metadata": {
        "id": "iQA4DXXbPaaJ"
      },
      "source": [
        "## 1.1 Installing the HuggingFace Library\n",
        "\n",
        "Install the transformers package from Hugging Face which will give us a pytorch interface for working with BERT. (This library contains interfaces for other pretrained language models like OpenAI's GPT and GPT-2). The model is implemented with PyTorch (at least 1.0.1) using transformers v3.0.2.\n",
        "\n",
        "Run this command to install the required packages."
      ]
    },
    {
      "cell_type": "code",
      "metadata": {
        "id": "E9y-S-y2NQPs",
        "colab": {
          "base_uri": "https://localhost:8080/",
          "height": 457
        },
        "outputId": "1b3f093a-412b-46b8-c6b1-ab714f4d49a7"
      },
      "source": [
        "!pip install -U sentence-transformers"
      ],
      "execution_count": null,
      "outputs": [
        {
          "output_type": "stream",
          "text": [
            "Requirement already up-to-date: sentence-transformers in /usr/local/lib/python3.6/dist-packages (0.3.1)\n",
            "Requirement already satisfied, skipping upgrade: nltk in /usr/local/lib/python3.6/dist-packages (from sentence-transformers) (3.2.5)\n",
            "Requirement already satisfied, skipping upgrade: numpy in /usr/local/lib/python3.6/dist-packages (from sentence-transformers) (1.18.5)\n",
            "Requirement already satisfied, skipping upgrade: transformers>=3.0.2 in /usr/local/lib/python3.6/dist-packages (from sentence-transformers) (3.0.2)\n",
            "Requirement already satisfied, skipping upgrade: scikit-learn in /usr/local/lib/python3.6/dist-packages (from sentence-transformers) (0.22.2.post1)\n",
            "Requirement already satisfied, skipping upgrade: scipy in /usr/local/lib/python3.6/dist-packages (from sentence-transformers) (1.4.1)\n",
            "Requirement already satisfied, skipping upgrade: torch>=1.2.0 in /usr/local/lib/python3.6/dist-packages (from sentence-transformers) (1.5.1+cu101)\n",
            "Requirement already satisfied, skipping upgrade: tqdm in /usr/local/lib/python3.6/dist-packages (from sentence-transformers) (4.41.1)\n",
            "Requirement already satisfied, skipping upgrade: six in /usr/local/lib/python3.6/dist-packages (from nltk->sentence-transformers) (1.15.0)\n",
            "Requirement already satisfied, skipping upgrade: tokenizers==0.8.1.rc1 in /usr/local/lib/python3.6/dist-packages (from transformers>=3.0.2->sentence-transformers) (0.8.1rc1)\n",
            "Requirement already satisfied, skipping upgrade: regex!=2019.12.17 in /usr/local/lib/python3.6/dist-packages (from transformers>=3.0.2->sentence-transformers) (2019.12.20)\n",
            "Requirement already satisfied, skipping upgrade: packaging in /usr/local/lib/python3.6/dist-packages (from transformers>=3.0.2->sentence-transformers) (20.4)\n",
            "Requirement already satisfied, skipping upgrade: sacremoses in /usr/local/lib/python3.6/dist-packages (from transformers>=3.0.2->sentence-transformers) (0.0.43)\n",
            "Requirement already satisfied, skipping upgrade: sentencepiece!=0.1.92 in /usr/local/lib/python3.6/dist-packages (from transformers>=3.0.2->sentence-transformers) (0.1.91)\n",
            "Requirement already satisfied, skipping upgrade: dataclasses; python_version < \"3.7\" in /usr/local/lib/python3.6/dist-packages (from transformers>=3.0.2->sentence-transformers) (0.7)\n",
            "Requirement already satisfied, skipping upgrade: filelock in /usr/local/lib/python3.6/dist-packages (from transformers>=3.0.2->sentence-transformers) (3.0.12)\n",
            "Requirement already satisfied, skipping upgrade: requests in /usr/local/lib/python3.6/dist-packages (from transformers>=3.0.2->sentence-transformers) (2.23.0)\n",
            "Requirement already satisfied, skipping upgrade: joblib>=0.11 in /usr/local/lib/python3.6/dist-packages (from scikit-learn->sentence-transformers) (0.16.0)\n",
            "Requirement already satisfied, skipping upgrade: future in /usr/local/lib/python3.6/dist-packages (from torch>=1.2.0->sentence-transformers) (0.16.0)\n",
            "Requirement already satisfied, skipping upgrade: pyparsing>=2.0.2 in /usr/local/lib/python3.6/dist-packages (from packaging->transformers>=3.0.2->sentence-transformers) (2.4.7)\n",
            "Requirement already satisfied, skipping upgrade: click in /usr/local/lib/python3.6/dist-packages (from sacremoses->transformers>=3.0.2->sentence-transformers) (7.1.2)\n",
            "Requirement already satisfied, skipping upgrade: chardet<4,>=3.0.2 in /usr/local/lib/python3.6/dist-packages (from requests->transformers>=3.0.2->sentence-transformers) (3.0.4)\n",
            "Requirement already satisfied, skipping upgrade: certifi>=2017.4.17 in /usr/local/lib/python3.6/dist-packages (from requests->transformers>=3.0.2->sentence-transformers) (2020.6.20)\n",
            "Requirement already satisfied, skipping upgrade: urllib3!=1.25.0,!=1.25.1,<1.26,>=1.21.1 in /usr/local/lib/python3.6/dist-packages (from requests->transformers>=3.0.2->sentence-transformers) (1.24.3)\n",
            "Requirement already satisfied, skipping upgrade: idna<3,>=2.5 in /usr/local/lib/python3.6/dist-packages (from requests->transformers>=3.0.2->sentence-transformers) (2.10)\n"
          ],
          "name": "stdout"
        }
      ]
    },
    {
      "cell_type": "markdown",
      "metadata": {
        "id": "WUg8uB41Q4Jv"
      },
      "source": [
        "## 1.2 Installing ElasticSearch\n",
        "\n",
        "Run this command to install the required packages."
      ]
    },
    {
      "cell_type": "code",
      "metadata": {
        "id": "njlirUBNqPGu",
        "colab": {
          "base_uri": "https://localhost:8080/",
          "height": 67
        },
        "outputId": "d1e650d1-09f4-4324-ee9d-5141e7b536f3"
      },
      "source": [
        "!pip install elasticsearch"
      ],
      "execution_count": null,
      "outputs": [
        {
          "output_type": "stream",
          "text": [
            "Requirement already satisfied: elasticsearch in /usr/local/lib/python3.6/dist-packages (7.8.0)\n",
            "Requirement already satisfied: urllib3>=1.21.1 in /usr/local/lib/python3.6/dist-packages (from elasticsearch) (1.24.3)\n",
            "Requirement already satisfied: certifi in /usr/local/lib/python3.6/dist-packages (from elasticsearch) (2020.6.20)\n"
          ],
          "name": "stdout"
        }
      ]
    },
    {
      "cell_type": "markdown",
      "metadata": {
        "id": "jRrxFZSHSFdZ"
      },
      "source": [
        "# 2. Acquiring the dataset"
      ]
    },
    {
      "cell_type": "markdown",
      "metadata": {
        "id": "D6vb2DjcSW_4"
      },
      "source": [
        "## 2.1 Required Libraries\n",
        "\n",
        "Run this cell to import the necessary packages required to implement the model."
      ]
    },
    {
      "cell_type": "code",
      "metadata": {
        "id": "CBggosdgxLAD"
      },
      "source": [
        "import numpy as np\n",
        "import json\n",
        "import pandas as pd\n",
        "from sentence_transformers import SentenceTransformer\n",
        "from elasticsearch import Elasticsearch\n",
        "from elasticsearch.helpers import bulk\n",
        "import xml.etree.ElementTree as ET"
      ],
      "execution_count": null,
      "outputs": []
    },
    {
      "cell_type": "markdown",
      "metadata": {
        "id": "KEFU3KAITkpp"
      },
      "source": [
        "Execute the following cell to get all the required packages."
      ]
    },
    {
      "cell_type": "code",
      "metadata": {
        "id": "qqGzCMO_TOqC"
      },
      "source": [
        "!pip freeze > requirements.txt"
      ],
      "execution_count": null,
      "outputs": []
    },
    {
      "cell_type": "markdown",
      "metadata": {
        "id": "fBXfUQchTrfd"
      },
      "source": [
        "If you want to execute this ElasticSearch in Local, run the following cell to download the `requirements.txt` which contains all the necessary packages.\n",
        "\n",
        "Download the ElasticSearch, SentenceTransformers and the pre-Trained Model from the following Links:\n",
        "\n",
        "\n",
        "\n",
        "1.   ElasticSearch - https://www.elastic.co/downloads/elasticsearch\n",
        "2.   SentenceTransformers - https://github.com/UKPLab/sentence-transformers\n",
        "3.   Pre-Trained Model - https://public.ukp.informatik.tu-darmstadt.de/reimers/sentence-transformers/v0.2/\n",
        "\n"
      ]
    },
    {
      "cell_type": "code",
      "metadata": {
        "id": "OABkdT5FTg9-"
      },
      "source": [
        "from google.colab import files\n",
        "files.download('requirements.txt')"
      ],
      "execution_count": null,
      "outputs": []
    },
    {
      "cell_type": "markdown",
      "metadata": {
        "id": "HrdQZgghTKMo"
      },
      "source": [
        "## 2.2 Downloading Pre-Trained Model\n",
        "\n",
        "These models were trained on SNLI and MultiNLI dataset to create universal sentence embeddings. Change the model name in the follwing cell to download the appropriate model.\n",
        "\n",
        "\n",
        ">Name | Details | Benchmark Score\n",
        ">--- | --- | ---\n",
        ">bert-base-nli-mean-tokens | BERT-base model with mean-tokens pooling. |77.12\n",
        ">bert-large-nli-mean-tokens | BERT-large with mean-tokens pooling. | 79.19\n",
        ">roberta-base-nli-mean-tokens | RoBERTa-base with mean-tokens pooling. | 77.49\n",
        ">roberta-large-nli-mean-tokens | RoBERTa-base with mean-tokens pooling. | 78.69\n",
        ">distilbert-base-nli-mean-tokens | DistilBERT-base with mean-tokens | 76.97"
      ]
    },
    {
      "cell_type": "code",
      "metadata": {
        "id": "1awwVSU8NIA7"
      },
      "source": [
        "embedder = SentenceTransformer('bert-base-nli-mean-tokens')"
      ],
      "execution_count": null,
      "outputs": []
    },
    {
      "cell_type": "markdown",
      "metadata": {
        "id": "O-khUcrTaJwb"
      },
      "source": [
        "## 2.3 Uploading our dataset\n",
        "\n",
        "Upload the iknowledge management json file from local in the follwing cell."
      ]
    },
    {
      "cell_type": "code",
      "metadata": {
        "id": "uJsDDdR4R-q5",
        "colab": {
          "resources": {
            "http://localhost:8080/nbextensions/google.colab/files.js": {
              "data": "Ly8gQ29weXJpZ2h0IDIwMTcgR29vZ2xlIExMQwovLwovLyBMaWNlbnNlZCB1bmRlciB0aGUgQXBhY2hlIExpY2Vuc2UsIFZlcnNpb24gMi4wICh0aGUgIkxpY2Vuc2UiKTsKLy8geW91IG1heSBub3QgdXNlIHRoaXMgZmlsZSBleGNlcHQgaW4gY29tcGxpYW5jZSB3aXRoIHRoZSBMaWNlbnNlLgovLyBZb3UgbWF5IG9idGFpbiBhIGNvcHkgb2YgdGhlIExpY2Vuc2UgYXQKLy8KLy8gICAgICBodHRwOi8vd3d3LmFwYWNoZS5vcmcvbGljZW5zZXMvTElDRU5TRS0yLjAKLy8KLy8gVW5sZXNzIHJlcXVpcmVkIGJ5IGFwcGxpY2FibGUgbGF3IG9yIGFncmVlZCB0byBpbiB3cml0aW5nLCBzb2Z0d2FyZQovLyBkaXN0cmlidXRlZCB1bmRlciB0aGUgTGljZW5zZSBpcyBkaXN0cmlidXRlZCBvbiBhbiAiQVMgSVMiIEJBU0lTLAovLyBXSVRIT1VUIFdBUlJBTlRJRVMgT1IgQ09ORElUSU9OUyBPRiBBTlkgS0lORCwgZWl0aGVyIGV4cHJlc3Mgb3IgaW1wbGllZC4KLy8gU2VlIHRoZSBMaWNlbnNlIGZvciB0aGUgc3BlY2lmaWMgbGFuZ3VhZ2UgZ292ZXJuaW5nIHBlcm1pc3Npb25zIGFuZAovLyBsaW1pdGF0aW9ucyB1bmRlciB0aGUgTGljZW5zZS4KCi8qKgogKiBAZmlsZW92ZXJ2aWV3IEhlbHBlcnMgZm9yIGdvb2dsZS5jb2xhYiBQeXRob24gbW9kdWxlLgogKi8KKGZ1bmN0aW9uKHNjb3BlKSB7CmZ1bmN0aW9uIHNwYW4odGV4dCwgc3R5bGVBdHRyaWJ1dGVzID0ge30pIHsKICBjb25zdCBlbGVtZW50ID0gZG9jdW1lbnQuY3JlYXRlRWxlbWVudCgnc3BhbicpOwogIGVsZW1lbnQudGV4dENvbnRlbnQgPSB0ZXh0OwogIGZvciAoY29uc3Qga2V5IG9mIE9iamVjdC5rZXlzKHN0eWxlQXR0cmlidXRlcykpIHsKICAgIGVsZW1lbnQuc3R5bGVba2V5XSA9IHN0eWxlQXR0cmlidXRlc1trZXldOwogIH0KICByZXR1cm4gZWxlbWVudDsKfQoKLy8gTWF4IG51bWJlciBvZiBieXRlcyB3aGljaCB3aWxsIGJlIHVwbG9hZGVkIGF0IGEgdGltZS4KY29uc3QgTUFYX1BBWUxPQURfU0laRSA9IDEwMCAqIDEwMjQ7CgpmdW5jdGlvbiBfdXBsb2FkRmlsZXMoaW5wdXRJZCwgb3V0cHV0SWQpIHsKICBjb25zdCBzdGVwcyA9IHVwbG9hZEZpbGVzU3RlcChpbnB1dElkLCBvdXRwdXRJZCk7CiAgY29uc3Qgb3V0cHV0RWxlbWVudCA9IGRvY3VtZW50LmdldEVsZW1lbnRCeUlkKG91dHB1dElkKTsKICAvLyBDYWNoZSBzdGVwcyBvbiB0aGUgb3V0cHV0RWxlbWVudCB0byBtYWtlIGl0IGF2YWlsYWJsZSBmb3IgdGhlIG5leHQgY2FsbAogIC8vIHRvIHVwbG9hZEZpbGVzQ29udGludWUgZnJvbSBQeXRob24uCiAgb3V0cHV0RWxlbWVudC5zdGVwcyA9IHN0ZXBzOwoKICByZXR1cm4gX3VwbG9hZEZpbGVzQ29udGludWUob3V0cHV0SWQpOwp9CgovLyBUaGlzIGlzIHJvdWdobHkgYW4gYXN5bmMgZ2VuZXJhdG9yIChub3Qgc3VwcG9ydGVkIGluIHRoZSBicm93c2VyIHlldCksCi8vIHdoZXJlIHRoZXJlIGFyZSBtdWx0aXBsZSBhc3luY2hyb25vdXMgc3RlcHMgYW5kIHRoZSBQeXRob24gc2lkZSBpcyBnb2luZwovLyB0byBwb2xsIGZvciBjb21wbGV0aW9uIG9mIGVhY2ggc3RlcC4KLy8gVGhpcyB1c2VzIGEgUHJvbWlzZSB0byBibG9jayB0aGUgcHl0aG9uIHNpZGUgb24gY29tcGxldGlvbiBvZiBlYWNoIHN0ZXAsCi8vIHRoZW4gcGFzc2VzIHRoZSByZXN1bHQgb2YgdGhlIHByZXZpb3VzIHN0ZXAgYXMgdGhlIGlucHV0IHRvIHRoZSBuZXh0IHN0ZXAuCmZ1bmN0aW9uIF91cGxvYWRGaWxlc0NvbnRpbnVlKG91dHB1dElkKSB7CiAgY29uc3Qgb3V0cHV0RWxlbWVudCA9IGRvY3VtZW50LmdldEVsZW1lbnRCeUlkKG91dHB1dElkKTsKICBjb25zdCBzdGVwcyA9IG91dHB1dEVsZW1lbnQuc3RlcHM7CgogIGNvbnN0IG5leHQgPSBzdGVwcy5uZXh0KG91dHB1dEVsZW1lbnQubGFzdFByb21pc2VWYWx1ZSk7CiAgcmV0dXJuIFByb21pc2UucmVzb2x2ZShuZXh0LnZhbHVlLnByb21pc2UpLnRoZW4oKHZhbHVlKSA9PiB7CiAgICAvLyBDYWNoZSB0aGUgbGFzdCBwcm9taXNlIHZhbHVlIHRvIG1ha2UgaXQgYXZhaWxhYmxlIHRvIHRoZSBuZXh0CiAgICAvLyBzdGVwIG9mIHRoZSBnZW5lcmF0b3IuCiAgICBvdXRwdXRFbGVtZW50Lmxhc3RQcm9taXNlVmFsdWUgPSB2YWx1ZTsKICAgIHJldHVybiBuZXh0LnZhbHVlLnJlc3BvbnNlOwogIH0pOwp9CgovKioKICogR2VuZXJhdG9yIGZ1bmN0aW9uIHdoaWNoIGlzIGNhbGxlZCBiZXR3ZWVuIGVhY2ggYXN5bmMgc3RlcCBvZiB0aGUgdXBsb2FkCiAqIHByb2Nlc3MuCiAqIEBwYXJhbSB7c3RyaW5nfSBpbnB1dElkIEVsZW1lbnQgSUQgb2YgdGhlIGlucHV0IGZpbGUgcGlja2VyIGVsZW1lbnQuCiAqIEBwYXJhbSB7c3RyaW5nfSBvdXRwdXRJZCBFbGVtZW50IElEIG9mIHRoZSBvdXRwdXQgZGlzcGxheS4KICogQHJldHVybiB7IUl0ZXJhYmxlPCFPYmplY3Q+fSBJdGVyYWJsZSBvZiBuZXh0IHN0ZXBzLgogKi8KZnVuY3Rpb24qIHVwbG9hZEZpbGVzU3RlcChpbnB1dElkLCBvdXRwdXRJZCkgewogIGNvbnN0IGlucHV0RWxlbWVudCA9IGRvY3VtZW50LmdldEVsZW1lbnRCeUlkKGlucHV0SWQpOwogIGlucHV0RWxlbWVudC5kaXNhYmxlZCA9IGZhbHNlOwoKICBjb25zdCBvdXRwdXRFbGVtZW50ID0gZG9jdW1lbnQuZ2V0RWxlbWVudEJ5SWQob3V0cHV0SWQpOwogIG91dHB1dEVsZW1lbnQuaW5uZXJIVE1MID0gJyc7CgogIGNvbnN0IHBpY2tlZFByb21pc2UgPSBuZXcgUHJvbWlzZSgocmVzb2x2ZSkgPT4gewogICAgaW5wdXRFbGVtZW50LmFkZEV2ZW50TGlzdGVuZXIoJ2NoYW5nZScsIChlKSA9PiB7CiAgICAgIHJlc29sdmUoZS50YXJnZXQuZmlsZXMpOwogICAgfSk7CiAgfSk7CgogIGNvbnN0IGNhbmNlbCA9IGRvY3VtZW50LmNyZWF0ZUVsZW1lbnQoJ2J1dHRvbicpOwogIGlucHV0RWxlbWVudC5wYXJlbnRFbGVtZW50LmFwcGVuZENoaWxkKGNhbmNlbCk7CiAgY2FuY2VsLnRleHRDb250ZW50ID0gJ0NhbmNlbCB1cGxvYWQnOwogIGNvbnN0IGNhbmNlbFByb21pc2UgPSBuZXcgUHJvbWlzZSgocmVzb2x2ZSkgPT4gewogICAgY2FuY2VsLm9uY2xpY2sgPSAoKSA9PiB7CiAgICAgIHJlc29sdmUobnVsbCk7CiAgICB9OwogIH0pOwoKICAvLyBXYWl0IGZvciB0aGUgdXNlciB0byBwaWNrIHRoZSBmaWxlcy4KICBjb25zdCBmaWxlcyA9IHlpZWxkIHsKICAgIHByb21pc2U6IFByb21pc2UucmFjZShbcGlja2VkUHJvbWlzZSwgY2FuY2VsUHJvbWlzZV0pLAogICAgcmVzcG9uc2U6IHsKICAgICAgYWN0aW9uOiAnc3RhcnRpbmcnLAogICAgfQogIH07CgogIGNhbmNlbC5yZW1vdmUoKTsKCiAgLy8gRGlzYWJsZSB0aGUgaW5wdXQgZWxlbWVudCBzaW5jZSBmdXJ0aGVyIHBpY2tzIGFyZSBub3QgYWxsb3dlZC4KICBpbnB1dEVsZW1lbnQuZGlzYWJsZWQgPSB0cnVlOwoKICBpZiAoIWZpbGVzKSB7CiAgICByZXR1cm4gewogICAgICByZXNwb25zZTogewogICAgICAgIGFjdGlvbjogJ2NvbXBsZXRlJywKICAgICAgfQogICAgfTsKICB9CgogIGZvciAoY29uc3QgZmlsZSBvZiBmaWxlcykgewogICAgY29uc3QgbGkgPSBkb2N1bWVudC5jcmVhdGVFbGVtZW50KCdsaScpOwogICAgbGkuYXBwZW5kKHNwYW4oZmlsZS5uYW1lLCB7Zm9udFdlaWdodDogJ2JvbGQnfSkpOwogICAgbGkuYXBwZW5kKHNwYW4oCiAgICAgICAgYCgke2ZpbGUudHlwZSB8fCAnbi9hJ30pIC0gJHtmaWxlLnNpemV9IGJ5dGVzLCBgICsKICAgICAgICBgbGFzdCBtb2RpZmllZDogJHsKICAgICAgICAgICAgZmlsZS5sYXN0TW9kaWZpZWREYXRlID8gZmlsZS5sYXN0TW9kaWZpZWREYXRlLnRvTG9jYWxlRGF0ZVN0cmluZygpIDoKICAgICAgICAgICAgICAgICAgICAgICAgICAgICAgICAgICAgJ24vYSd9IC0gYCkpOwogICAgY29uc3QgcGVyY2VudCA9IHNwYW4oJzAlIGRvbmUnKTsKICAgIGxpLmFwcGVuZENoaWxkKHBlcmNlbnQpOwoKICAgIG91dHB1dEVsZW1lbnQuYXBwZW5kQ2hpbGQobGkpOwoKICAgIGNvbnN0IGZpbGVEYXRhUHJvbWlzZSA9IG5ldyBQcm9taXNlKChyZXNvbHZlKSA9PiB7CiAgICAgIGNvbnN0IHJlYWRlciA9IG5ldyBGaWxlUmVhZGVyKCk7CiAgICAgIHJlYWRlci5vbmxvYWQgPSAoZSkgPT4gewogICAgICAgIHJlc29sdmUoZS50YXJnZXQucmVzdWx0KTsKICAgICAgfTsKICAgICAgcmVhZGVyLnJlYWRBc0FycmF5QnVmZmVyKGZpbGUpOwogICAgfSk7CiAgICAvLyBXYWl0IGZvciB0aGUgZGF0YSB0byBiZSByZWFkeS4KICAgIGxldCBmaWxlRGF0YSA9IHlpZWxkIHsKICAgICAgcHJvbWlzZTogZmlsZURhdGFQcm9taXNlLAogICAgICByZXNwb25zZTogewogICAgICAgIGFjdGlvbjogJ2NvbnRpbnVlJywKICAgICAgfQogICAgfTsKCiAgICAvLyBVc2UgYSBjaHVua2VkIHNlbmRpbmcgdG8gYXZvaWQgbWVzc2FnZSBzaXplIGxpbWl0cy4gU2VlIGIvNjIxMTU2NjAuCiAgICBsZXQgcG9zaXRpb24gPSAwOwogICAgd2hpbGUgKHBvc2l0aW9uIDwgZmlsZURhdGEuYnl0ZUxlbmd0aCkgewogICAgICBjb25zdCBsZW5ndGggPSBNYXRoLm1pbihmaWxlRGF0YS5ieXRlTGVuZ3RoIC0gcG9zaXRpb24sIE1BWF9QQVlMT0FEX1NJWkUpOwogICAgICBjb25zdCBjaHVuayA9IG5ldyBVaW50OEFycmF5KGZpbGVEYXRhLCBwb3NpdGlvbiwgbGVuZ3RoKTsKICAgICAgcG9zaXRpb24gKz0gbGVuZ3RoOwoKICAgICAgY29uc3QgYmFzZTY0ID0gYnRvYShTdHJpbmcuZnJvbUNoYXJDb2RlLmFwcGx5KG51bGwsIGNodW5rKSk7CiAgICAgIHlpZWxkIHsKICAgICAgICByZXNwb25zZTogewogICAgICAgICAgYWN0aW9uOiAnYXBwZW5kJywKICAgICAgICAgIGZpbGU6IGZpbGUubmFtZSwKICAgICAgICAgIGRhdGE6IGJhc2U2NCwKICAgICAgICB9LAogICAgICB9OwogICAgICBwZXJjZW50LnRleHRDb250ZW50ID0KICAgICAgICAgIGAke01hdGgucm91bmQoKHBvc2l0aW9uIC8gZmlsZURhdGEuYnl0ZUxlbmd0aCkgKiAxMDApfSUgZG9uZWA7CiAgICB9CiAgfQoKICAvLyBBbGwgZG9uZS4KICB5aWVsZCB7CiAgICByZXNwb25zZTogewogICAgICBhY3Rpb246ICdjb21wbGV0ZScsCiAgICB9CiAgfTsKfQoKc2NvcGUuZ29vZ2xlID0gc2NvcGUuZ29vZ2xlIHx8IHt9OwpzY29wZS5nb29nbGUuY29sYWIgPSBzY29wZS5nb29nbGUuY29sYWIgfHwge307CnNjb3BlLmdvb2dsZS5jb2xhYi5fZmlsZXMgPSB7CiAgX3VwbG9hZEZpbGVzLAogIF91cGxvYWRGaWxlc0NvbnRpbnVlLAp9Owp9KShzZWxmKTsK",
              "ok": true,
              "headers": [
                [
                  "content-type",
                  "application/javascript"
                ]
              ],
              "status": 200,
              "status_text": ""
            }
          },
          "base_uri": "https://localhost:8080/",
          "height": 73
        },
        "outputId": "f9c4df8c-862d-412d-b788-926e1c262b39"
      },
      "source": [
        "from google.colab import files\n",
        "uploaded = files.upload()"
      ],
      "execution_count": null,
      "outputs": [
        {
          "output_type": "display_data",
          "data": {
            "text/html": [
              "\n",
              "     <input type=\"file\" id=\"files-419718d1-403a-435f-9b07-d1c0ff88304e\" name=\"files[]\" multiple disabled\n",
              "        style=\"border:none\" />\n",
              "     <output id=\"result-419718d1-403a-435f-9b07-d1c0ff88304e\">\n",
              "      Upload widget is only available when the cell has been executed in the\n",
              "      current browser session. Please rerun this cell to enable.\n",
              "      </output>\n",
              "      <script src=\"/nbextensions/google.colab/files.js\"></script> "
            ],
            "text/plain": [
              "<IPython.core.display.HTML object>"
            ]
          },
          "metadata": {
            "tags": []
          }
        },
        {
          "output_type": "stream",
          "text": [
            "Saving iknow_topic.json to iknow_topic.json\n"
          ],
          "name": "stdout"
        }
      ]
    },
    {
      "cell_type": "markdown",
      "metadata": {
        "id": "s3MZ8bB1aZne"
      },
      "source": [
        "The following cell extracts the titles of the articles. Change the file name at `f = open('iknow_topic.json')`"
      ]
    },
    {
      "cell_type": "code",
      "metadata": {
        "id": "ENuX-QXeRHMM",
        "colab": {
          "base_uri": "https://localhost:8080/",
          "height": 34
        },
        "outputId": "805f8e36-3de7-49ec-99cd-c0b0aa2b92de"
      },
      "source": [
        "import random\n",
        "\n",
        "count = 0\n",
        "iknow_dataset = []\n",
        "\n",
        "f = open('iknow_topic.json')\n",
        "data = json.load(f)\n",
        "for i in data:\n",
        "  count+=1\n",
        "for i in range(count):\n",
        "  iknow_dataset.append(data[i].get('Title'))\n",
        "\n",
        "print(\"Random Title: \",random.choice(iknow_dataset))"
      ],
      "execution_count": null,
      "outputs": [
        {
          "output_type": "stream",
          "text": [
            "Random Title:  SSRS Reports horinzontal scroll bar not visible in IE 11\n"
          ],
          "name": "stdout"
        }
      ]
    },
    {
      "cell_type": "markdown",
      "metadata": {
        "id": "kdtFbUfvcKqW"
      },
      "source": [
        "At the end of the previous cell, the random function has been called to display an article title randomly.\n",
        "\n",
        "---\n",
        "\n",
        "The next set of cells contains details to extract about 300,000 titles of articles/questions present in Academic Stackoverflow.\n",
        "\n"
      ]
    },
    {
      "cell_type": "markdown",
      "metadata": {
        "id": "ktKR5ngyJ1AR"
      },
      "source": [
        "## 2.4 Random dataset in a zip file\n",
        "\n",
        "Paste any url of the zip file and then following two cells will download extract the files and place in the colaboratory directory."
      ]
    },
    {
      "cell_type": "code",
      "metadata": {
        "id": "fkn5eHe_W7FT",
        "colab": {
          "base_uri": "https://localhost:8080/",
          "height": 286
        },
        "outputId": "0963b9f7-7297-4ced-897b-4f06d7436095"
      },
      "source": [
        "!wget https://archive.org/download/stackexchange/academia.stackexchange.com.7z"
      ],
      "execution_count": null,
      "outputs": [
        {
          "output_type": "stream",
          "text": [
            "--2020-07-23 06:29:38--  https://archive.org/download/stackexchange/academia.stackexchange.com.7z\n",
            "Resolving archive.org (archive.org)... 207.241.224.2\n",
            "Connecting to archive.org (archive.org)|207.241.224.2|:443... connected.\n",
            "HTTP request sent, awaiting response... 302 Found\n",
            "Location: https://ia800107.us.archive.org/27/items/stackexchange/academia.stackexchange.com.7z [following]\n",
            "--2020-07-23 06:29:38--  https://ia800107.us.archive.org/27/items/stackexchange/academia.stackexchange.com.7z\n",
            "Resolving ia800107.us.archive.org (ia800107.us.archive.org)... 207.241.232.17\n",
            "Connecting to ia800107.us.archive.org (ia800107.us.archive.org)|207.241.232.17|:443... connected.\n",
            "HTTP request sent, awaiting response... 200 OK\n",
            "Length: 124338591 (119M) [application/x-7z-compressed]\n",
            "Saving to: ‘academia.stackexchange.com.7z’\n",
            "\n",
            "academia.stackexcha 100%[===================>] 118.58M  1.20MB/s    in 45s     \n",
            "\n",
            "2020-07-23 06:30:24 (2.65 MB/s) - ‘academia.stackexchange.com.7z’ saved [124338591/124338591]\n",
            "\n"
          ],
          "name": "stdout"
        }
      ]
    },
    {
      "cell_type": "code",
      "metadata": {
        "id": "TpnYSYO1XY3q",
        "colab": {
          "base_uri": "https://localhost:8080/",
          "height": 521
        },
        "outputId": "229580df-1e7c-48a4-a912-81759e77b070"
      },
      "source": [
        "!apt-get install p7zip-full\n",
        "\n",
        "!p7zip -d academia.stackexchange.com.7z"
      ],
      "execution_count": null,
      "outputs": [
        {
          "output_type": "stream",
          "text": [
            "Reading package lists... Done\n",
            "Building dependency tree       \n",
            "Reading state information... Done\n",
            "p7zip-full is already the newest version (16.02+dfsg-6).\n",
            "The following package was automatically installed and is no longer required:\n",
            "  libnvidia-common-440\n",
            "Use 'apt autoremove' to remove it.\n",
            "0 upgraded, 0 newly installed, 0 to remove and 35 not upgraded.\n",
            "\n",
            "7-Zip (a) [64] 16.02 : Copyright (c) 1999-2016 Igor Pavlov : 2016-05-21\n",
            "p7zip Version 16.02 (locale=en_US.UTF-8,Utf16=on,HugeFiles=on,64 bits,2 CPUs AMD EPYC 7B12 (830F10),ASM,AES-NI)\n",
            "\n",
            "Scanning the drive for archives:\n",
            "  0M Scan\b\b\b\b\b\b\b\b\b         \b\b\b\b\b\b\b\b\b1 file, 124338591 bytes (119 MiB)\n",
            "\n",
            "Extracting archive: academia.stackexchange.com.7z\n",
            "--\n",
            "Path = academia.stackexchange.com.7z\n",
            "Type = 7z\n",
            "Physical Size = 124338591\n",
            "Headers Size = 343\n",
            "Method = BZip2\n",
            "Solid = +\n",
            "Blocks = 7\n",
            "\n",
            "  0%\b\b\b\b    \b\b\b\b  2% - Badges.xml\b\b\b\b\b\b\b\b\b\b\b\b\b\b\b\b\b                 \b\b\b\b\b\b\b\b\b\b\b\b\b\b\b\b\b  3% 1 - Comments.xml\b\b\b\b\b\b\b\b\b\b\b\b\b\b\b\b\b\b\b\b\b                     \b\b\b\b\b\b\b\b\b\b\b\b\b\b\b\b\b\b\b\b\b  5% 1 - Comments.xml\b\b\b\b\b\b\b\b\b\b\b\b\b\b\b\b\b\b\b\b\b                     \b\b\b\b\b\b\b\b\b\b\b\b\b\b\b\b\b\b\b\b\b  6% 1 - Comments.xml\b\b\b\b\b\b\b\b\b\b\b\b\b\b\b\b\b\b\b\b\b                     \b\b\b\b\b\b\b\b\b\b\b\b\b\b\b\b\b\b\b\b\b  8% 1 - Comments.xml\b\b\b\b\b\b\b\b\b\b\b\b\b\b\b\b\b\b\b\b\b                     \b\b\b\b\b\b\b\b\b\b\b\b\b\b\b\b\b\b\b\b\b  9% 1 - Comments.xml\b\b\b\b\b\b\b\b\b\b\b\b\b\b\b\b\b\b\b\b\b                     \b\b\b\b\b\b\b\b\b\b\b\b\b\b\b\b\b\b\b\b\b 11% 1 - Comments.xml\b\b\b\b\b\b\b\b\b\b\b\b\b\b\b\b\b\b\b\b\b                     \b\b\b\b\b\b\b\b\b\b\b\b\b\b\b\b\b\b\b\b\b 12% 1 - Comments.xml\b\b\b\b\b\b\b\b\b\b\b\b\b\b\b\b\b\b\b\b\b                     \b\b\b\b\b\b\b\b\b\b\b\b\b\b\b\b\b\b\b\b\b 14% 1 - Comments.xml\b\b\b\b\b\b\b\b\b\b\b\b\b\b\b\b\b\b\b\b\b                     \b\b\b\b\b\b\b\b\b\b\b\b\b\b\b\b\b\b\b\b\b 15% 1 - Comments.xml\b\b\b\b\b\b\b\b\b\b\b\b\b\b\b\b\b\b\b\b\b                     \b\b\b\b\b\b\b\b\b\b\b\b\b\b\b\b\b\b\b\b\b 16% 1 - Comments.xml\b\b\b\b\b\b\b\b\b\b\b\b\b\b\b\b\b\b\b\b\b                     \b\b\b\b\b\b\b\b\b\b\b\b\b\b\b\b\b\b\b\b\b 18% 2 - PostHistory.xml\b\b\b\b\b\b\b\b\b\b\b\b\b\b\b\b\b\b\b\b\b\b\b\b                        \b\b\b\b\b\b\b\b\b\b\b\b\b\b\b\b\b\b\b\b\b\b\b\b 19% 2 - PostHistory.xml\b\b\b\b\b\b\b\b\b\b\b\b\b\b\b\b\b\b\b\b\b\b\b\b                        \b\b\b\b\b\b\b\b\b\b\b\b\b\b\b\b\b\b\b\b\b\b\b\b 21% 2 - PostHistory.xml\b\b\b\b\b\b\b\b\b\b\b\b\b\b\b\b\b\b\b\b\b\b\b\b                        \b\b\b\b\b\b\b\b\b\b\b\b\b\b\b\b\b\b\b\b\b\b\b\b 22% 2 - PostHistory.xml\b\b\b\b\b\b\b\b\b\b\b\b\b\b\b\b\b\b\b\b\b\b\b\b                        \b\b\b\b\b\b\b\b\b\b\b\b\b\b\b\b\b\b\b\b\b\b\b\b 24% 2 - PostHistory.xml\b\b\b\b\b\b\b\b\b\b\b\b\b\b\b\b\b\b\b\b\b\b\b\b                        \b\b\b\b\b\b\b\b\b\b\b\b\b\b\b\b\b\b\b\b\b\b\b\b 25% 2 - PostHistory.xml\b\b\b\b\b\b\b\b\b\b\b\b\b\b\b\b\b\b\b\b\b\b\b\b                        \b\b\b\b\b\b\b\b\b\b\b\b\b\b\b\b\b\b\b\b\b\b\b\b 27% 2 - PostHistory.xml\b\b\b\b\b\b\b\b\b\b\b\b\b\b\b\b\b\b\b\b\b\b\b\b                        \b\b\b\b\b\b\b\b\b\b\b\b\b\b\b\b\b\b\b\b\b\b\b\b 28% 2 - PostHistory.xml\b\b\b\b\b\b\b\b\b\b\b\b\b\b\b\b\b\b\b\b\b\b\b\b                        \b\b\b\b\b\b\b\b\b\b\b\b\b\b\b\b\b\b\b\b\b\b\b\b 30% 2 - PostHistory.xml\b\b\b\b\b\b\b\b\b\b\b\b\b\b\b\b\b\b\b\b\b\b\b\b                        \b\b\b\b\b\b\b\b\b\b\b\b\b\b\b\b\b\b\b\b\b\b\b\b 31% 2 - PostHistory.xml\b\b\b\b\b\b\b\b\b\b\b\b\b\b\b\b\b\b\b\b\b\b\b\b                        \b\b\b\b\b\b\b\b\b\b\b\b\b\b\b\b\b\b\b\b\b\b\b\b 33% 2 - PostHistory.xml\b\b\b\b\b\b\b\b\b\b\b\b\b\b\b\b\b\b\b\b\b\b\b\b                        \b\b\b\b\b\b\b\b\b\b\b\b\b\b\b\b\b\b\b\b\b\b\b\b 34% 2 - PostHistory.xml\b\b\b\b\b\b\b\b\b\b\b\b\b\b\b\b\b\b\b\b\b\b\b\b                        \b\b\b\b\b\b\b\b\b\b\b\b\b\b\b\b\b\b\b\b\b\b\b\b 35% 2 - PostHistory.xml\b\b\b\b\b\b\b\b\b\b\b\b\b\b\b\b\b\b\b\b\b\b\b\b                        \b\b\b\b\b\b\b\b\b\b\b\b\b\b\b\b\b\b\b\b\b\b\b\b 37% 2 - PostHistory.xml\b\b\b\b\b\b\b\b\b\b\b\b\b\b\b\b\b\b\b\b\b\b\b\b                        \b\b\b\b\b\b\b\b\b\b\b\b\b\b\b\b\b\b\b\b\b\b\b\b 38% 2 - PostHistory.xml\b\b\b\b\b\b\b\b\b\b\b\b\b\b\b\b\b\b\b\b\b\b\b\b                        \b\b\b\b\b\b\b\b\b\b\b\b\b\b\b\b\b\b\b\b\b\b\b\b 39% 2 - PostHistory.xml\b\b\b\b\b\b\b\b\b\b\b\b\b\b\b\b\b\b\b\b\b\b\b\b                        \b\b\b\b\b\b\b\b\b\b\b\b\b\b\b\b\b\b\b\b\b\b\b\b 41% 2 - PostHistory.xml\b\b\b\b\b\b\b\b\b\b\b\b\b\b\b\b\b\b\b\b\b\b\b\b                        \b\b\b\b\b\b\b\b\b\b\b\b\b\b\b\b\b\b\b\b\b\b\b\b 42% 2 - PostHistory.xml\b\b\b\b\b\b\b\b\b\b\b\b\b\b\b\b\b\b\b\b\b\b\b\b                        \b\b\b\b\b\b\b\b\b\b\b\b\b\b\b\b\b\b\b\b\b\b\b\b 44% 2 - PostHistory.xml\b\b\b\b\b\b\b\b\b\b\b\b\b\b\b\b\b\b\b\b\b\b\b\b                        \b\b\b\b\b\b\b\b\b\b\b\b\b\b\b\b\b\b\b\b\b\b\b\b 45% 2 - PostHistory.xml\b\b\b\b\b\b\b\b\b\b\b\b\b\b\b\b\b\b\b\b\b\b\b\b                        \b\b\b\b\b\b\b\b\b\b\b\b\b\b\b\b\b\b\b\b\b\b\b\b 46% 2 - PostHistory.xml\b\b\b\b\b\b\b\b\b\b\b\b\b\b\b\b\b\b\b\b\b\b\b\b                        \b\b\b\b\b\b\b\b\b\b\b\b\b\b\b\b\b\b\b\b\b\b\b\b 48% 2 - PostHistory.xml\b\b\b\b\b\b\b\b\b\b\b\b\b\b\b\b\b\b\b\b\b\b\b\b                        \b\b\b\b\b\b\b\b\b\b\b\b\b\b\b\b\b\b\b\b\b\b\b\b 50% 2 - PostHistory.xml\b\b\b\b\b\b\b\b\b\b\b\b\b\b\b\b\b\b\b\b\b\b\b\b                        \b\b\b\b\b\b\b\b\b\b\b\b\b\b\b\b\b\b\b\b\b\b\b\b 51% 2 - PostHistory.xml\b\b\b\b\b\b\b\b\b\b\b\b\b\b\b\b\b\b\b\b\b\b\b\b                        \b\b\b\b\b\b\b\b\b\b\b\b\b\b\b\b\b\b\b\b\b\b\b\b 52% 2 - PostHistory.xml\b\b\b\b\b\b\b\b\b\b\b\b\b\b\b\b\b\b\b\b\b\b\b\b                        \b\b\b\b\b\b\b\b\b\b\b\b\b\b\b\b\b\b\b\b\b\b\b\b 54% 2 - PostHistory.xml\b\b\b\b\b\b\b\b\b\b\b\b\b\b\b\b\b\b\b\b\b\b\b\b                        \b\b\b\b\b\b\b\b\b\b\b\b\b\b\b\b\b\b\b\b\b\b\b\b 55% 2 - PostHistory.xml\b\b\b\b\b\b\b\b\b\b\b\b\b\b\b\b\b\b\b\b\b\b\b\b                        \b\b\b\b\b\b\b\b\b\b\b\b\b\b\b\b\b\b\b\b\b\b\b\b 57% 4 - Posts.xml\b\b\b\b\b\b\b\b\b\b\b\b\b\b\b\b\b\b                  \b\b\b\b\b\b\b\b\b\b\b\b\b\b\b\b\b\b 58% 4 - Posts.xml\b\b\b\b\b\b\b\b\b\b\b\b\b\b\b\b\b\b                  \b\b\b\b\b\b\b\b\b\b\b\b\b\b\b\b\b\b 59% 4 - Posts.xml\b\b\b\b\b\b\b\b\b\b\b\b\b\b\b\b\b\b                  \b\b\b\b\b\b\b\b\b\b\b\b\b\b\b\b\b\b 60% 4 - Posts.xml\b\b\b\b\b\b\b\b\b\b\b\b\b\b\b\b\b\b                  \b\b\b\b\b\b\b\b\b\b\b\b\b\b\b\b\b\b 62% 4 - Posts.xml\b\b\b\b\b\b\b\b\b\b\b\b\b\b\b\b\b\b                  \b\b\b\b\b\b\b\b\b\b\b\b\b\b\b\b\b\b 63% 4 - Posts.xml\b\b\b\b\b\b\b\b\b\b\b\b\b\b\b\b\b\b                  \b\b\b\b\b\b\b\b\b\b\b\b\b\b\b\b\b\b 64% 4 - Posts.xml\b\b\b\b\b\b\b\b\b\b\b\b\b\b\b\b\b\b                  \b\b\b\b\b\b\b\b\b\b\b\b\b\b\b\b\b\b 65% 4 - Posts.xml\b\b\b\b\b\b\b\b\b\b\b\b\b\b\b\b\b\b                  \b\b\b\b\b\b\b\b\b\b\b\b\b\b\b\b\b\b 67% 4 - Posts.xml\b\b\b\b\b\b\b\b\b\b\b\b\b\b\b\b\b\b                  \b\b\b\b\b\b\b\b\b\b\b\b\b\b\b\b\b\b 68% 4 - Posts.xml\b\b\b\b\b\b\b\b\b\b\b\b\b\b\b\b\b\b                  \b\b\b\b\b\b\b\b\b\b\b\b\b\b\b\b\b\b 70% 4 - Posts.xml\b\b\b\b\b\b\b\b\b\b\b\b\b\b\b\b\b\b                  \b\b\b\b\b\b\b\b\b\b\b\b\b\b\b\b\b\b 71% 4 - Posts.xml\b\b\b\b\b\b\b\b\b\b\b\b\b\b\b\b\b\b                  \b\b\b\b\b\b\b\b\b\b\b\b\b\b\b\b\b\b 72% 4 - Posts.xml\b\b\b\b\b\b\b\b\b\b\b\b\b\b\b\b\b\b                  \b\b\b\b\b\b\b\b\b\b\b\b\b\b\b\b\b\b 74% 4 - Posts.xml\b\b\b\b\b\b\b\b\b\b\b\b\b\b\b\b\b\b                  \b\b\b\b\b\b\b\b\b\b\b\b\b\b\b\b\b\b 75% 4 - Posts.xml\b\b\b\b\b\b\b\b\b\b\b\b\b\b\b\b\b\b                  \b\b\b\b\b\b\b\b\b\b\b\b\b\b\b\b\b\b 76% 4 - Posts.xml\b\b\b\b\b\b\b\b\b\b\b\b\b\b\b\b\b\b                  \b\b\b\b\b\b\b\b\b\b\b\b\b\b\b\b\b\b 77% 4 - Posts.xml\b\b\b\b\b\b\b\b\b\b\b\b\b\b\b\b\b\b                  \b\b\b\b\b\b\b\b\b\b\b\b\b\b\b\b\b\b 79% 4 - Posts.xml\b\b\b\b\b\b\b\b\b\b\b\b\b\b\b\b\b\b                  \b\b\b\b\b\b\b\b\b\b\b\b\b\b\b\b\b\b 80% 6 - Users.xml\b\b\b\b\b\b\b\b\b\b\b\b\b\b\b\b\b\b                  \b\b\b\b\b\b\b\b\b\b\b\b\b\b\b\b\b\b 81% 6 - Users.xml\b\b\b\b\b\b\b\b\b\b\b\b\b\b\b\b\b\b                  \b\b\b\b\b\b\b\b\b\b\b\b\b\b\b\b\b\b 83% 6 - Users.xml\b\b\b\b\b\b\b\b\b\b\b\b\b\b\b\b\b\b                  \b\b\b\b\b\b\b\b\b\b\b\b\b\b\b\b\b\b 84% 6 - Users.xml\b\b\b\b\b\b\b\b\b\b\b\b\b\b\b\b\b\b                  \b\b\b\b\b\b\b\b\b\b\b\b\b\b\b\b\b\b 87% 7 - Votes.xml\b\b\b\b\b\b\b\b\b\b\b\b\b\b\b\b\b\b                  \b\b\b\b\b\b\b\b\b\b\b\b\b\b\b\b\b\b 89% 7 - Votes.xml\b\b\b\b\b\b\b\b\b\b\b\b\b\b\b\b\b\b                  \b\b\b\b\b\b\b\b\b\b\b\b\b\b\b\b\b\b 92% 7 - Votes.xml\b\b\b\b\b\b\b\b\b\b\b\b\b\b\b\b\b\b                  \b\b\b\b\b\b\b\b\b\b\b\b\b\b\b\b\b\b 95% 7 - Votes.xml\b\b\b\b\b\b\b\b\b\b\b\b\b\b\b\b\b\b                  \b\b\b\b\b\b\b\b\b\b\b\b\b\b\b\b\b\b 97% 7 - Votes.xml\b\b\b\b\b\b\b\b\b\b\b\b\b\b\b\b\b\b                  \b\b\b\b\b\b\b\b\b\b\b\b\b\b\b\b\b\b100% 7 - Votes.xml\b\b\b\b\b\b\b\b\b\b\b\b\b\b\b\b\b\b                  \b\b\b\b\b\b\b\b\b\b\b\b\b\b\b\b\b\bEverything is Ok\n",
            "\n",
            "Files: 8\n",
            "Size:       722920863\n",
            "Compressed: 124338591\n"
          ],
          "name": "stdout"
        }
      ]
    },
    {
      "cell_type": "code",
      "metadata": {
        "id": "5qu4FjefLplT"
      },
      "source": [
        "# This cell is when the questions are present in XML Format. Change the file name accordingly.\n",
        "\n",
        "import xml.dom.minidom\n",
        "tree = xml.dom.minidom.parse('PostHistory.xml')"
      ],
      "execution_count": null,
      "outputs": []
    },
    {
      "cell_type": "code",
      "metadata": {
        "id": "HYqvxyrGm4Oi",
        "colab": {
          "base_uri": "https://localhost:8080/",
          "height": 67
        },
        "outputId": "849a300c-11b5-4f7b-bb3d-fffa64003498"
      },
      "source": [
        "import random\n",
        "\n",
        "stackoverflow_dataset = []\n",
        "count = 0\n",
        "ex = tree.getElementsByTagName(\"row\") # Here 'row' is the name of all the rows present in the XML file.\n",
        "for skill in ex:\n",
        "  count+=1\n",
        "  stackoverflow_dataset.append(skill.getAttribute(\"Text\")) # We are extracting the titles which are present in the \"Text\" attribute.\n",
        "                                                           # Change the attribute name according to your file.\n",
        "\n",
        "print(\"The number of titles present in the given dataset: \",count)\n",
        "print(\"\\nRandom Question: \",random.choice(stackoverflow_dataset))"
      ],
      "execution_count": null,
      "outputs": [
        {
          "output_type": "stream",
          "text": [
            "The number of titles present in the given dataset:  294243\n",
            "\n",
            "Random Question:  Is simplified writing/accessible tone frowned upon in publications?\n"
          ],
          "name": "stdout"
        }
      ]
    },
    {
      "cell_type": "markdown",
      "metadata": {
        "id": "r27FNCSScX2o"
      },
      "source": [
        "# 3. Index creation\n",
        "\n",
        "Use the online API tester at https://apitester.com/ to add a new index to an Elasticsearch cluster.\n",
        "\n",
        "Steps to follow to add a new index using the API Tester:\n",
        "\n",
        "\n",
        "1.   Select 'PUT' method and enter the IP address followed by the index name.\n",
        "![image.png](data:image/png;base64,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)\n",
        "2.   In the 'Post Data', add the following text to create a new index.\n",
        "![image.png](data:image/png;base64,iVBORw0KGgoAAAANSUhEUgAABSwAAAFhCAYAAAB6YuRFAAAgAElEQVR4Ae3dy47jTH8fYF+t19x9d9AN5xaMCH0LCZDF9DpOAi+MdAcIssjCMGykxwt/gDeG4QMDklUkq1iUqAMpSnpe4IVOZB2e+ksz/A0p/cnP3/+x9j8DNaAG1IAaUANqQA2oATWgBtSAGlADakANqAE1oAb2UAN/sodBGIM3gxpQA2pADagBNaAG1IAaUANqQA2oATWgBtSAGlADTQ0ILJ1h6gxbNaAG1IAaUANqQA2oATWgBtSAGlADakANqAE1sJsaEFgqxt0Uo39F8a8oakANqAE1oAbUgBpQA2pADagBNaAG1IAaUAMCS4GlwFINqAE1oAbUgBpQA2pADagBNaAG1IAaUANqQA3spgYElopxN8XoX1D8C4oaUANqQA2oATWgBtSAGlADakANqAE1oAbUgMBSYCmwVANqQA2oATWgBtSAGlADakANqAE1oAbUgBpQA7upAYGlYtxNMfoXFP+CogbUgBpQA2pADagBNaAG1IAaUANqQA2oATWQBJb/+z//h/oPf/jD9P8/+y/1/7462Pu/9X/6sz/Uf/4XM+h/cZj224zlzL7bOfzH/yGEu3q9ZtZJu2pLDagBNaAG1IAaUANqQA2oATWgBtSAGlADamDFGpgGloWw77/+x/ODw2kaviCwLIST5/YtsBQ0TmuPCRM1oAbUgBpQA2pADagBNaAG1IAaUANqQA08Sg0sCix//s9/qf/sD4f6v8bkNDkb8j/U/+n/DAuenqUZX+vCynj25p/95/87TaGbNguB5c/fd/uO92lDzPGZoCFkTfqObbVjH581Gsc0jPlRFss4rZkaUANqQA2oATWgBtSAGlADakANqAE1oAbUwLPXwPmBZRtWjkK/8eP2fh5sxseXnWHZLMD4rMnJGZdtn8Ol5uNtu6B1eC2Gn+VgVLE/e7GbnxpXA2pADagBNaAG1IAaUANqQA2oATWgBtTA/mtgQWAZzo5sz2Kcnu3YLHIbIjav54FlPCOzvb08sGzbjWdMJm02wP+j/vM/DKFkElhOtg3h52xb+18wbyprpAbUgBpQA2pADagBNaAG1IAaUANqQA2oATXwzDUwDSzHl1rH+33Al4aDEWYICUO4GfZLf2DntoFl22cc38nAsht3vCTdGZbe1LF23aoFNaAG1IAaUANqQA2oATWgBtSAGlADakAN7KsGpoFl4Ud3hkU7FVgOkxu+ZzJePn55YDkEouEMyTaojJeap2MabxvPvmyCyvgdmO3rfQA7jHeYo+dYqAE1oAbUgBpQA2pADagBNaAG1IAaUANqQA2ogXvVwJmBZRc6xvAvDrq/JHxyCfZ4+0sDy1NtHAksm0vUs3BSYOnNFuvWrVpQA2pADagBNaAG1IAaUANqQA2oATWgBtTA/mrgzMDyj+F7KuNZk9nj/Dss21/ojtteFlimP7IzDi8bzO5xcwZlvPw8OcMyH0/7+A+TEFNh7q8wrYk1UQNqQA2oATWgBtSAGlADakANqAE1oAbUwGvWwPmBZXMWZQz+2kuzYyDZAQ6Xgv+hHgeJTYG1YWKzT+my86TNbt/2OyfzbdsQdHj9z/8ihJZxu/717pLxZDzN2ZZtP+mYFf9rFr91t+5qQA2oATWgBtSAGlADakANqAE1oAbUgBrYXw0kgaUF2t8CWRNrogbUgBpQA2pADagBNaAG1IAaUANqQA2oATXwSjUgsJx876Y3wCu9AcxVvasBNaAG1IAaUANqQA2oATWgBtSAGlADamBfNSCwFFjW3pT7elNaD+uhBtSAGlADakANqAE1oAbUgBpQA2pADbxyDQgsBZYCSzWgBtSAGlADakANqAE1oAbUgBpQA2pADagBNbCbGhBYKsbdFOMr/8uBufuXMzWgBtSAGlADakANqAE1oAbUgBpQA2pADXQ1ILAUWAos1YAaUANqQA2oATWgBtSAGlADakANqAE1oAbUwG5qoA8s/+Zvf9d/9T//V/3f/vtf+p+BGlADakANqAE1oAbUgBpQA2pADagBNaAG1IAaUAOr10CTRza55Pjs0j6wbF7867/+m/of/uEf6j/+8Y/+Z6AG1IAaUANqQA2oATWgBtSAGlADakANqAE1oAbUwGo10OSQTR7Z5JLFwLI5s/If//Ef63/6p3+q//mf/9n/DNSAGlADakANqAE1oAbUgBpQA2pADagBNaAG1IAaWK0GmhyyySObXHI2sGyCyn/7t3+r//3f/93/DNSAGlADakANqAE1oAbUgBpQA2pADagBNaAG1IAaWLUGmjzyaGD5L//yL7X/CBAgQIAAAQIECBAgQIAAAQIECBAgsIVAk0ceDSz/9V//dYtx6IMAAQIECBAgQIAAAQIECBAgQIAAAQJ1k0cKLBUCAQIECBAgQIAAAQIECBAgQIAAAQK7EBBY7mIZDIIAAQIECBAgQIAAAQIECBAgQIAAgUZAYKkOCBAgQIAAAQIECBAgQIAAAQIECBDYjYDAcjdLYSAECBAgQIAAAQIECBAgQIAAAQIECAgs1QABAgQIECBAgAABAgQIECBAgAABArsR2D6w/D7UVVW1/x++d+NgIAQIECBAgAABAgQIECBAgAABAgQI7EBg28Dy92f9XlW1oHIHK28IBAgQIECAAAECBAgQIECAAAECBHYosGlg+fPrva7ePuufHUIYEgECBAgQIECAAAECBAgQIECAAAEC9xfYNLD8+qgElvdfcyMgQIAAAQIECBAgQIAAAQIECBAgsFsBgeVul8bACBAgQIAAAQIECBAgQIAAAQIECLyegMDy9dbcjAkQIECAAAECBAgQIECAAAECBAjsVkBgudulMTACBAgQIECAAAECBAgQIECAAAECryewYWD5VR+qqn7/5Sd3Xq/MzJgAAQIECBAgQIAAAQIECBAgQIDAMoENAssuqKyqQ/21bEy2IkCAAAECBAgQIECAAAECBAgQIEDgRQU2CCyjrDMso4RbAgQIECBAgAABAgQIECBAgAABAgTKAhsGlnX99VHV1dtn7aLw8mJ4lgABAgQIECBAgAABAgQIECBAgMCrCwgsX70CzJ8AAQIECBAgQIAAAQIECBAgQIDAjgQEljtaDEMhQIAAAQIECBAgQIAAAQIECBAg8OoCAstXrwDzJ0CAAAECBAgQIECAAAECBAgQILAjgU0Dy59f777DckeLbygECBAgQIAAAQIECBAgQIAAAQIE9iawaWBZfx/qqqrqw/feGIyHAAECBAgQIECAAAECBAgQIECAAIE9CGwbWDYzDqGl4HIPy28MBAgQIECAAAECBAgQIECAAAECBPYlsH1gua/5Gw0BAgQIECBAgAABAgQIECBAgAABAjsSEFjuaDEMhQABAgQIECBAgAABAgQIECBAgMCrCwgsX70CzJ8AAQIECBAgQIAAAQIECBAgQIDAjgQEljtaDEMhQIAAAQIECBAgQIAAAQIECBAg8OoCAstXrwDzJ0CAAAECBAgQIECAAAECBAgQILAjAYHljhbDUAgQIECAAAECBAgQIECAAAECBAi8uoDA8tUrwPwJECBAgAABAgQIECBAgAABAgQI7EhAYLmjxTAUAgQIECBAgAABAgQIECBAgAABAq8u8OKB5U/9+VbVVfVef/6u6/r7UFdVVVdvn/XPI1XG78/6vRl3dai/9jLuaPnRjCg6V/Xhe6MBxv6rDfvcaGq6IUCAAAECBAgQIECAAAECBAg8s4DAchxYxuCvDdlWXPbQz6nw7ufX+7IQMo57t4FlXX99jILhFWnbphf6rj0M7RMgQIAAAQIECBAgQIAAAQIECJwv8OKBZQzSwpmJMfh7tMDy/HVff49g+f6rO1d1y8CyDXof7SzZ9VdEDwQIECBAgAABAgQIECBAgACBhxAQWLZn/sVLqb/qQ1XVMWRbbQUXngG4+AzL1QZ6RcNZYLnlXNpwVGB5xeLZlQABAgQIECBAgAABAgQIECBwP4GXDyyX0neBW3NZc/h/5izMfLtx+NmdZThqI7YVbrtLxLvQtO8n2yb5nsp4RmjcZiaka/ttxpttP70kffiuybz/8TzqOh9j+A7QpZiF7W55BqbAsgDsKQIECBAgQIAAAQIECBAgQIDAgwgILBcsVBdCpqFc81we+HWhWzxbs+4DwjTsG57P98+H0vU7ai/fYPT4WEjXjasJSoe2pnMKYeUo9Oy2yX+0JoSVSWD7VR9G+42GtfDuEIBOrBa2MN7smMV4O/cJECBAgAABAgQIECBAgAABAgT2JyCwXLAmiwKwmcu8i6HjzLb5UIr75huFx8fG2AWWaeAaz7bsQ9PimArhZHG7mUGd8XRxjGfsP970mMV4O/cJECBAgAABAgQIECBAgAABAgT2JyCwXLAm8UzD6shZhLPh4vehrqoTYeHMGGbbLGx/LKQrvpYHj+04y2dTpmc9DmdD9mFnYTz3e6obXzrm+41GzwQIECBAgAABAgQIECBAgAABAucJCCyXeoVAr/9ux+SS6Phr43PfT/kAgWU9d0l4NvbWK/+uy9I2S2FvtV0MUofL3m/VsnYIECBAgAABAgQIECBAgAABAgS2ExBYXmDdXb5c1dUotDznbMjJ5dgzYzinzeJZlKHd4mv5GZaTH9JpwtcFQWRoZ9G2M/O87dPOsLytp9YIECBAgAABAgQIECBAgAABAtsKCCwv9J6EgKVLv2fbXhiqndHmZDyjvouvZYHlOeHoqOnubtbW5PUFT7RjXBKQLm3ryOX7C5qwCQECBAgQIECAAAECBAgQIECAwJ0EBJYn4ZvLn/PLjMPlx6MzLOt4SfXol7jnm46XVOftZnvEsxeTfrJtwsNiKHnstTxkXBqOfh/q/Pshu7BzwdmY5aHX9ejszrzt2V2OvHDM4shuXiJAgAABAgQIECBAgAABAgQIENiBgMBy0SLE70ccvqNyLljrzhQctmu/87IYOE7bLP6ITf7dmaNAtAsKs76q7vF4fMUALw8sm9jwo9zW+NL3hmva74ngdYFx1/c1oefQSXG+w8vuESBAgAABAgQIECBAgAABAgQI7FhAYLnjxdlyaLOBYQhMxwHoluO6pC+B5SVq9iFAgAABAgQIECBAgAABAgQI7ENAYLmPdbjzKKa/EN4PKJyJ+UiBZXsGqO+w7JfQHQIECBAgQIAAAQIECBAgQIDAIwkILB9ptVYca/kMy/hdm7e5VHvF4adNh7NCi5fYp1t6RIAAAQIECBAgQIAAAQIECBAgsDMBgeXOFuSew+lCy+x7LB/1TMXRd38KLu9ZVfomQIAAAQIECBAgQIAAAQIECJwnILA8z8vWBAgQIECAAAECBAgQIECAAAECBAisKCCwXBFX0wQIECBAgAABAgQIECBAgAABAgQInCcgsDzPy9YECBAgQIAAAQIECBAgQIAAAQIECKwoILBcEVfTBAgQIECAAAECBAgQIECAAAECBAicJyCwPM/L1gQIECBAgAABAgQIECBAgAABAgQIrCggsFwRV9MECBAgQIAAAQIECBAgQIAAAQIECJwnILA8z8vWBAgQIECAAAECBAgQIECAAAECBAisKCCwXBFX0wQIECBAgAABAgQIECBAgAABAgQInCcgsDzP6+jWP7/e66qq6vdfP3Vdf9WHqqqr6r3+/F3Y7fvQblu9fdbN1jf77/dn/V5V9eH7Zi1mDf3Un2+jea01j6zX4WF0rerq42t4evG9e49/bqDdvLramdvmgZ6PddG+B5p6OdSXrNbxGe/H7Oujqi97L8d67nziZ8hltX1cq381rk37/onvh0s/Mx59/L3K1Xe6tVujzq8e2gUNDHXR/Jk2/Ll2QVOb7ZKPeebP3jie8GflOp9NsZMzb2/63lzWd/zMWfT3llNN3nL8/frEv1Od6tzrBAgQIECAAAECzyYgsLzhiqZ/8Y8HTzMHsPEv9o8eWMaDiovCw3Pxg+lVfcV1CQezm47/2Hz3E74dG+Wi10Jtrx++7sfsVoFlvYVd/OwJ76N27HP/sHJywdPA8vHGf3KCizd4nsAyfkbO/Nm1WOSOG7Y1/uiBZV1f995c5n/W31tONXnTz5bQWfgzev0/T05NzusECBAgQIAAAQJbCwgsbyke/rLend14p4O+8Jf79c6wjAdR4WB2y8Cv7evEQeiC9ewOAu8w/qNj20/4dnSYC15MfBdsf/km+zFr53zRPz6Ez4m4b/gMWfXgPAsAjoYi8f09G2jufPyXF9fZez5NYJnVx9kQe9hhSWC5h3HmY8jsj743830vfbz47y3xHye6M26LV4+sNP7W4ap/qLwUx34ECBAgQIAAAQL3FBBY3lI/+Yt/CPZiEHHLfo61FQ4YNgssw6XvqwYscb43OgjtDgLj2UN7Cb32Mo6Ifflt67tJ3e/H7PI5Z4HfBu/fOgsVykHbMK6v9qsu5v6hYNiu/WqL3Yz/8vq9dM+y46Wt3XG/LdZw7end6M+KtYc5aX/Re3Oy13VPLPl7SxjX+Ksquj9Hs8+FlcZ/+efrdTT2JkCAAAECBAgQuK+AwHJr/3BwEL8XbHwAMAylC2Ka0DFertVtH0O2YcvhuzLjWQ/d7TSw7Nrs+82+U7A7+Jh+V9Tc8+MRHLsfxz8dz7G9Zl7b8CC0nXdzRkc8UAvf45bMI7yWPNd8e+n4+wzbbZqDuujfHeBF1+F7D4fwLZrNr3leF9N1G8KTECjF75K8OEiM4491lh2ojpYsmf/o+fPvnurzHLPMof+u2WFU55ilaxRMJranxj/0vfReVzfz9kvbObVd00/8R4huruv3eWpMZ73ev+/iGeHlNSrWava+brf5+Bo+i7PPhfj+H+onXffomI4/3Wb6PYpDbcfL7ONnd+wvbe/0o0nNzp2xls3/dMulLcL7LbNq5jD1yN+b01qLa3D083g8jGN/VoT5Rc/hM3jcQLx/emx1nW9TmmM9+bNkuuaxz6W3oYYmnztL91++XfF9Euc9V0fLmz+5Zbn/k7vZgAABAgQIECBA4MEFBJZ3W8DRAd1kDKOD2f5gIGw/PjgJB17JAWDpYLOwXXsAkISW8aBrFIqGcDVpfzLWY0/ENi/9gZys7WMHodmm1z7sfJqQY/CYBDcl65nA8v2tOQjvPJr7bVCdzCcEFM1r/RoX1jy2PxpXPIgfr9M4nBieD3XV19RCpUIdxPZjeBIf9yFADEgv/sGO0li/6kNv04x99D7pnw9m2Ry/PrIQ5Mic0lBlOo7peycLqVvW6X7tePtxLrRPNhvmO6xpssEqDyZ1v0ovN240vDcXrWW+Jtn7ugtL3uv3pqbCe3b8fo7/6NQ6vb2nP3oW6iy+T9pZLvo8Htb66GfQIrb4OTx8lvXvnX7u4/7iP0qMb8f7Luk09tm0MXrvTTym75NSvQ2fx0Nbpe36kYV1Kv7gXb9R6X07ejHWUG/UvPZTf36kP5S35LOl9BndPpd9To16P303WCa+p/e6YItujSafOX3/59bG+UPo3oOp+/mt2IMAAQIECBAgQODRBASWd1uxcrDSDSccxCUHSvGsuuHgoPiX+Oxgu2mvuF3xUu7xweP4/uVI3UHlpb9AnPW78CA02+uih90B8nBw3DaS2+aPQ0+JdzzobQ9M40F8WMNwwNeFGeU1j2dX9YHHTJ+d81Abc+7J2BbJzNVpeD6r0abJ8/soDGRmnumWZbPcIt0nPpqOf5HZzLgmc57ZLvZ+6W3bzzgAurShM/brXLL3whn732XT4B/DxDiGfJ3yx+122dol5uE924U3aQ2V6yfdpmm/2Ofk87hc2zH46j8P4sSO3c59biafP6MGsvmPXjnjbpj3+B9W2r27ecXwq/xeDfuOwrxkDfpRpG31Tzd35uacbDS3Ft1G5XXKGig+nK750vEUm5t9cqZGZre/8IVCPfTrttD5wp773dr+Cn/W9Bu4Q4AAAQIECBAg8JQCAsu7Lev0oGwYSvlArD9IaDcsbzM9oJ3Zbu5yrnAQ250pNwRgw9jud+/yA8jzx1zsKz9wyx+HbpJ9k22yA9kkMJhZp7D/8QP86QF6Vys3CJmy/seSaT0OryTzH54+817n0dThfDhTNpsbVz6AfJxLzObaztvqz2A7Ov58RPt8vMRldyNP3nfD6PJ1yh+3W2b7Jtsk79n0/Xy0Nvrgrlyz/WXFfUgX6r9/PMzh3Hvt+Pv+x3vPjCWb/3iP5fdTm/J+838GJuazIe/8/ksDwryfYZwzNsMGR+9N2g2m658NeXRYl72Y1ENmvlFgOfmHu8tmYi8CBAgQIECAAIEHExBY3m3Bsr/4J+MoHyylB8TlbSaBZX+gNL68b3S/cEDcHeAeC4qSwa7+4B7jmRxwNrNMDtwKj4NEsm+yT1jzeKZIEn7MrGd25lW06ALl0Tq2l14PAeXNQqZk/OlSz/WRzD/d5cxHwau/vHyYX9dQ2Sx9n4Qu594HcS2aiz2P/rhM106x7VOByuz4z+S40+ZLXO40tPluZ+o2r838cdtgtm+yTfKeTd/Pc7WRPD9Xh7FG+s/jrrbzM0TnJzz/SjL+ZLOZPrL5J7ssfpDalHcL/ce557ej92Z5DqGP3mzUy8Igrdzu/Gf7qIfh7tyajsbfbZzPd1//IDhMKLvX10M3/viPZ+1WC52zFi98OPx5MP+PWBc2bTcCBAgQIECAAIFdCggs77YsRw62spAqDjE58J3ZZhKqzW0XG81uYzhx+HhPv3ss2+4eD2cPLlcYTLGv/sAtdJg/Dk8n+ybbZAfxSfhROBhs2kv2j6Ha6QPduI6nvsPtJF3W/3j7tB6HV5L5D09fdy+MIz1DqWw2GVfcNws28nEuMZu0HWaVtzWZbBzDxpdzT8ZxwRNLXC5odt1dZuo2X6f8cTuobN9km+Q9m76fl9VGuWanGN12WwSWSQDVDCSb/3RsS55Jbcp7HPszMN0jWYP+pSP7LwzSyu02HSxcp/i+PvHZ0g853gl1NP5+0vjS/m5DLRbOFp+r+ZvPYeF63rxfDRIgQIAAAQIECNxVQGB5N/4jB1szB0vpwUF5//YALDmwKG9XnHY4+OoOYMNByuQskeKes092Y77R2ZobHrQUD2TzA/n8cauQuSXbhLWIpuGgtTtbpHyA3PmNzixcaDDZb3aFTr0wVz9zzx//XrhTvR19PbFstjxmNoS6cxb5Gs9tl4yp5B/GNfxYUrLH8GAy/uGlpfe69/eoHpbueMV2i1wWtR9qJvl8WrTj+RvNWOdrnj9uOurmO3xmJdsk79n0/dztN9RdN+jwedAHWvPvm3SS+X7pq2c9KtVs08Dc8zN2Z/UZv3IkftbN7JzYzmzTPF3c7tg45+aW9VFst90mXdtst/7h3Htjvt1+13n/0SbH74YaOWF8vI1lr5bns7SWl/VxbKty/8f28BoBAgQIECBAgMAzCAgs77aKx/6yf1kQ0x485b9S28wvHGRPzqRJ5l44+Fm0X9JI9iDMsbnUrz9gzzY55+HCg9BzmpzbtniANDlAzkOF8LiZbzyITPbJDoKD72xgGfZN1y2a5sFIOpO5A+l0q4WPknF2+xxrv2i3sKt+s+9Dnc47BknjsG7Z+2Ra/9FwtE59UDVuvx/N6E55zdtffo9r3my9aPyjZhfdHeort1m0+4UbHVvr85ocxt+/P85rYPnWyftu2C2vzXxu3ePuqxbiZafJPsl7IX0/d/um78t23/z7I0Mbx9cwr7NhDuffS8fZ7X+k/Rm78/ot9VloIfR16s+HZA3aZk603xqfei/PBKFxmGGd0rFlvxI+WcswrvGfAeGzJdZTbL5YG/HFJbdxfFuctV34s+jq8S+ZY9hmuv5n7GxTAgQIECBAgACBhxUQWG68dN1f8vPvHkwPkJeeOdYMPWmvDQW7A9H84Che5pd+92E8oBsOsvL9YvvHD67nEWMAkLc7v8eRVxYehB5pYfFLxQOk0oF8POAO37/WzLOdcwyvkn2yg+xwwBltovV4jeJr+cBL244PrDv3uL753hc87g+OY+2mwcy4xaLdeIOF92PtDB55n12t57XZ7Zdum7fVuObjXGyWrHln3O4b1zzML+/zFpd/dut+w3WdWYvp2OO6pyHvzO6zT/ftZlazO1z6QvK+GxrJ17x5pTMN82vHlX6GJvsk79ns/ZzUxbi9of/+XmnbJHg6Eij2jZxzZ/iMj++n/H3TtzZj17++6E5mc3SfMNfwGRrHN/7sS9Yobpf/I1jRdLoOfQ3Gdka3E5NJm9P3Xt5e6bOlmf5kDle/B4Lb1e0cXZzhxYlF+hk7bHj7e8l78PbNa5EAAQIECBAgQGCnAgLLnS6MYRUENgwsC717igCBawVi6JGHTde2a/+nFhBYPfXynpyc9T9JZAMCBAgQIECAwFMKCCyfclmfdFJt2DE9w+VJZ2taBJ5MIJ7lt92ZWU8G+LLTEVi97NK3E7f+r73+Zk+AAAECBAi8roDA8nXX/gFnfuvLJB+QwJAJPKBAf9nsVpevPqCRIc8LCKzmbZ7+lXBW9uRy/aefuAkSIECAAAECBAgILNXAgwmMvu/MZaUXr10fII2+vy1+d9z4dvw9chd3FnZsQ4cT/VXJ9/hd26P9CTyrwOhz8Nh76pYBcbyc/1h/zWsrfC4LLJ+1jo/Ma1xvK9TUkZ69RIAAAQIECBAgsBMBgeVOFsIwCBAgQIAAAQIECBAgQIAAAQIECBCoa4GlKiBAgAABAgQIECBAgAABAgQIECBAYDcCAsvdLIWBECBAgAABAgQIECBAgAABAgQIECAgsFQDBAgQIECAAAECBAgQIECAAAECBAjsRkBguZulMBACBAgQIECAAAECBAgQIECAAAECBASWaoAAAQIECBAgQIAAAQIECBAgQIAAgd0ICCx3sxQGQoAAAQIECBAgQIAAAQIECBAgQICAwFINECBAgAABAgQIECBAgAABAgQIECCwG4EXDyy/6kNV1VXz/8fXbhbFQAgQIECAAAECBAgQIECAAAECBAi8qhOzQJgAACAASURBVMCLB5Zx2UNwKbSMIG4JECBAgAABAgQIECBAgAABAgQI3EVAYBnYf36919XbZ/1zl2XQKQECBAgQIECAAAECBAgQIECAAAECjYDAMtRBG1hWh9qF4d4YBAgQIECAAAECBAgQIECAAAECBO4nILAM9gLL+xWhngkQIECAAAECBAgQIECAAAECBAhEAYFlkBBYxpJwS4AAAQIECBAgQIAAAQIECBAgQOB+AgLLaP99qCuXhEcNtwQIECBAgAABAgQIECBAgAABAgTuIiCwjOy/P+v3qqrff/nZnUjilgABAgQIECBAgAABAgQIECBAgMDWAgLLTPzro6orwWWm4iEBAgQIECBAgAABAgQIECBAgACBbQQEltE5nGF5+I5PuCVAgAABAgQIECBAgAABAgQIECBAYGsBgWUQX/KjO86+3Lo89UeAAAECBAgQIECAAAECBAgQIPBqAgLLsOKnA8uf+vOtu1zcj/O82tvEfAkQIECAAAECBAgQIECAAAECBLYSEFgG6dOBZV3X7S+JN6Hlof7aaoX0Q4AAAQIECBAgQIAAAQIECBAgQOCFBASWYbEXBZb1V32oqrp6+6z9lvgLvUtMlQABAgQIECBAgAABAgQIECBAYDMBgWWgXhJYdt9h+V5//t5sfXREgAABAgQIECBAgAABAgQIECBA4KUEBJbtcoczJz9mLvR2KfhLvSlMlgABAgQIECBAgAABAgQIECBA4H4CLx5YhqDSZd73q0A9EyBAgAABAgQIECBAgAABAgQIEBgJvHhgOZJwlwABAgQIECBAgAABAgQIECBAgACBuwsILO++BAZAgAABAgQIECBAgAABAgQIECBAgEAUEFhGCbcECBAgQIAAAQIECBAgQIAAAQIECNxdQGB59yUwAAIECBAgQIAAAQIECBAgQIAAAQIEooDAMkq4JUCAAAECBAgQIECAAAECBAgQIEDg7gICy7svgQEQIECAAAECBAgQIECAAAECBAgQIBAFBJZRwi0BAgQIECBAgAABAgQIECBAgAABAncXEFjefQkMgAABAgQIECBAgAABAgQIECBAgACBKPDigeVP/flW1VX1Xn/+ruv6+1BXVVVXb5/1TxR6hNvfn/V7M+7qUH/tZbzR8qMZUXSu6sP3XgbYjGMY18Ot+Z4YjYUAAQIECBAgQIAAAQIECBAgcEMBgeU4sIzBXxuy3VB57abiuHcbWNb118coGF7bY2H77ZgeLZxeODebESBAgAABAgQIECBAgAABAgQeVeDFA8sYpIUzE2Pw92iB5R6rL1i+/+rOVd1fYPlVH6q9nfG5x4U0JgIECBAgQIAAAQIECBAgQIDAtgICy/bMv3gpdRdixZBt26V4st6ywPLn1/u+LlkP49vXJepPVgOmQ4AAAQIECBAgQIAAAQIECBC4QODlA8tTZu2ZgR9fdRe4VXXVnH0Zz8ScnKE3+k7E9jslqzoPP2N74zaa781Mg7Ph7L++39J3VI7Gcey7N5f12UhMx9+2W+Xz6MYXX+u/A/QU5rWvx/ne4gxYgeW1q2F/AgQIECBAgAABAgQIECBAgMAqAgLLE6xt2Pf2Xr83IVn7QzLv9ftb8yM9IdwbhWdfH+HHe2Kb4YdnxqFl214bPg7bdqHk8LiuR4Fg/x2Lob/+ceyku+3GWf6xoKHPeCZpHQLYcZ/T9mNYWgpT2+C2H8JXfZgZV7/JDe7E8dzkx4UEljdYEU0QIECAAAECBAgQIECAAAECBG4vILA8YdqFfSHYSwLIacA3bWq6TdJev0N+KXoILPMQMASm7S+a9/t2d04HluNwsu7PEu3DyGKAF8YxCmXjmaH9ftk4Vn3oDMtVeTVOgAABAgQIECBAgAABAgQIENiDgMDyxCokQWAILLuwbhpGlppK9q/Dj/zkQWS8FLsPBvMAM7RcDBW71/J+xmMpvpa3lcwt7l0aRwgxJ5exx30e47Y7W3M44/QxRm2UBAgQIECAAAECBAgQIECAAIHnFxBYnljjJOxLQr1CYBnPAAzfX9l/x+MooEza6/sObd0zsIyh6Wis00vV44DDePt5Zmdvxs12eBsvKx9fpr/DYRoSAQIECBAgQIAAAQIECBAgQOBlBQSWJ5Y+CRiPBZYxrOxDx67hZP89n2E5/t7Mc4LIOO/qcULLZmWcYXmi8L1MgAABAgQIECBAgAABAgQIELiTgMDyBHwSOB4JLOfORkz2nwss88uzQ3iYnwV4LGTL+xlPq/ha1uextsdtFe9nbRW3ucWTMRzNQuGLmt5qzBcNzk4ECBAgQIAAAQIECBAgQIAAgdcVEFieWPsk7DsSWHa/IF7VQ8g4umx6dJl10l7bd+HS8lJgGQK2of104NN2h9eLr+WBXTu3BWdJfh9Gc+z6mAtrhxHc5l7XT1X7lfDbeGqFAAECBAgQIECAAAECBAgQILBHAYHliVVJwr5jgWV/mXETqHX/Nz/Ok+wfz7DsL7kO207OGBx+2Ca21dzmv8w9BHhDn3H7cbCZj6Gdch5Yzo2tGWs2vmm/G/14TRhzPp4TS1h+uTD/8oaeJUCAAAECBAgQIECAAAECBAgQ2FJAYLmldgwFR2dclrsv/Tp3ectbPduGmqXvoQwh7TgAvVWfd21HYHlXfp0TIECAAAECBAgQIECAAAECBOYEBJZzMis9XzzbcdLX1oFl6bL0MKgQ7D1dYBkuu8/PWp0shScIECBAgAABAgQIECBAgAABAgQ2FRBYbso9vUS83P3WgWUY1+QMy/g9nAu+27I8kR0/eySk3fGoDY0AAQIECBAgQIAAAQIECBAg8OwCAsuNV3ifZ1h2CN1l4dn3YZ68fH1jwJt2FwPZqq6eep43RdMYAQIECBAgQIAAAQIECBAgQGBVAYHlqrwaJ0CAAAECBAgQIECAAAECBAgQIEDgHAGB5TlatiVAgAABAgQIECBAgAABAgQIECBAYFUBgeWqvBonQIAAAQIECBAgQIAAAQIECBAgQOAcAYHlOVq2JUCAAAECBAgQIECAAAECBAgQIEBgVQGB5aq8GidAgAABAgQIECBAgAABAgQIECBA4BwBgeU5WrYlQIAAAQIECBAgQIAAAQIECBAgQGBVAYHlqrwaJ0CAAAECBAgQIECAAAECBAgQIEDgHAGB5TlatiVAgAABAgQIECBAgAABAgQIECBAYFUBgeUNeX9+vddVVdXvv37quv6qD1VVV9V7/fn7hp08ZVM/9edbY1XVh++1Jxj7CuvyfWj7rd4+62bV1v8v9l/V2/W5/qz0QIAAAQIECBAgQIAAAQIECBC4lYDA8laSdV2ngWUMpg711w37eKSmOo8l849Wdwgsf3/W702w/LHNKn19CCofqYaNlQABAgQIECBAgAABAgQIENheQGB5S/Nwtl53lmAM4ZYEdrccxH7aWh5YbjvmNjSswrpsGlh2Z92ufxbptp56I0CAAAECBAgQIECAAAECBAjcUkBgeUvNJLCs61c/m+4hAstw6X53Gf8ti6HQVghHBZYFG08RIECAAAECBAgQIECAAAECBIKAwHLjUmhDzOby43hmX/s9l/ml0OHszMJ202Atfldm9x2Qpe/MXNZnBxEva2++T3L4Ps4RUhvKdt//2J2pGPuNZ5Lm44mvx9u4XdNmPAs1vnbs+z7zdsftDOPLx3/1pd5xnW5xybjAclgo9wgQIECAAAECBAgQIECAAAECMwICyxmYtZ4eQr4hnOtCtuFxGuSNns/O4KzD43GIGQO78Vl8y/oMZ4TGS6UbgBCwjduPfbaBZh/iheAx++GabizlYHHiOwpCJ68VxtHNKW176th9r+jYYtL2iSeiZzV2ObHP7MsCy1kaLxAgQIAAAQIECBAgQIAAAQIEooDAMkpsdNsFbaMQsu23O3twCAbjmYdpIBd/ebzbbnQWZjL2aXi4qM+ZMG0SOhZC0qb7yXYzzyVDHT84Eli248/C0NSia6i83biTC+4Hl6vP1Gy6njG+YFR2IUCAAAECBAgQIECAAAECBAg8rYDAcuOlLYdqefg4DR0nwwzh1xByDlvk4eGSPvN9+tbyIDEElkvOWpxts298dCfvp38pD3PjC7lZDE33+yvcZ3nEabolQIAAAQIECBAgQIAAAQIECLyYgMBy4wVfEh72l4RPziocDfbI2XpdMDacxbmkz3ab8L2V8fsrh9uhrXhJ+GaBZTzDcW5s/WXpwSYEqv3Y89dHhFvd7dajqkvh8lZj0A8BAgQIECBAgAABAgQIECBA4FEEBJYbr9SS8PA2geVwOfmSPhef/bebMyxPL1wfwu4gtGxGu9j49NRsQYAAAQIECBAgQIAAAQIECBB4WgGB5cZLWwwPJ2dLLrgkPP7C9iSMm14qvajP2UuyM6AzAsvubMzR2ZlZU8nD2f6n80n2O/GgOPcT+yQvxzM8J87JVsseTNZ52W62IkCAAAECBAgQIECAAAECBAi8koDAcuPVngZopXCy9FxhoIXwML8cvNnrrD5P/Rp2oc/CyLqnzgn7ZgPLuo6XoR+/pLoxG84q7QbQff/lNT+YEy/n9ivhs6vsBQIECBAgQIAAAQIECBAgQIDATQUEljflPN1YGx7m38c4OXtvYWDZdBcCxP47GwuB47I+u7Gf3PacwPLU+GKgmXs0j/Pv7yxum5+9GQLKUXvHQ87T6xV/2fua0LPvxRmWPYU7BAgQIECAAAECBAgQIECAAIE5AYHlnMxKz0/Pdlypo1Gz9+hz1L27UUBgGSXcEiBAgAABAgQIECBAgAABAgRmBQSWszTrvHCP8PAefa6j9+itdmeALvmF9UefqfETIECAAAECBAgQIECAAAECBC4VEFheKnfhfvcID+/R54U8T77bGZf6P7mE6REgQIAAAQIECBAgQIAAAQIE5gQElnMyKz1/j/DwHn2uxPcEzYbQsvQ9nU8wO1MgQIAAAQIECBAgQIAAAQIECFwrILC8VtD+BAgQIECAAAECBAgQIECAAAECBAjcTEBgeTNKDREgQIAAAQIECBAgQIAAAQIECBAgcK2AwPJaQfsTIECAAAECBAgQIECAAAECBAgQIHAzAYHlzSg1RIAAAQIECBAgQIAAAQIECBAgQIDAtQICy2sF7U+AAAECBAgQIECAAAECBAgQIECAwM0EBJY3o9QQAQIECBAgQIAAAQIECBAgQIAAAQLXCggsrxW0PwECBAgQIECAAAECBAgQIECAAAECNxMQWN6MUkMECBAgQIAAAQIECBAgQIAAAQIECFwrILC8VnCt/b8PdVVVdfXxVdf1T/35VrWPD99rdXifdn9+vbfzev/1U9f1V31o5ly915+/7zOecq9xXHE9ylvNPxvXL8wrru3bZ93Mev//3WP89+jzlitx2/F/fXTv/6o61M0ngv8IECBAgAABAgQIECBAgMAzCwgs97q6MdRqA8u67gKLvQR5XYDXhYzXAaaBZQx59hTKhDGFdbhstnFeYf1+f9bvfRidtth57Gn+zfiWjz+dzTWPlvd5D7PTfS4f/zlK3efA3urjnBnYlgABAgQIECBAgAABAgQInBYQWJ42us8WIdSKoeCzBpZ1CGa7M0djyLOjQKZdh+uD4iRoerjAMgbmYV2OjP+Wb5Y9m50OLFcyu1E93nKdtEWAAAECBAgQIECAAAECBG4tILC8teit2guhUAwslwQkt+r6dDu3O8MyDSxDyLOnS6XbQPXGgWW49D2u7dh7X+s8jCwJD4+Mf9jj+ntL+7yH2ZI+l47/LKnwufBsXw1xloGNCRAgQIAAAQIECBAgQODpBQSWD7/Eo+9XbL//cfpdl21wkoeAM8FHF7LE78ur6nGo1oU0w2vtd2yO+hxv27LGy9rjNlddVr18oeI4bxLq3CiwPD768hoOvvGM07BdvpZN48mZqiH4bbzDOse2iia3XqfY56rrvdRskI91ES2Seo1jzr8jMnn+/D6H3m90L4ynuI436kIzBAgQIECAAAECBAgQIEDg3gICy3uvwDX9h/CiFLyMA41lgWUhDIthzSR46rZN+s3m0YVD4zMTQ/uTtrIdr34YLyu/9AdysgFsElgOfXZuMaAcno/3pq7dK+nZfPFy5CZcHtagtO/0uevXqWuz6Xt+HnE+t7jt+jveV+4Tg9ykhkNwOzwXa2na9pI+bzG3SRsCywmJJwgQIECAAAECBAgQIEDg+QQElg+8psuCyJnLrLPgYy6A6Z4fQq+O61RgOfP6RuFfN+aqHoe2Fy/zRmOO45tbh/h6MWgrXKLdBXSn1m2ldZoNuvtZ3PTOUrO8Hkr7dc91buP7+YBL++bbrPO4W7N8Luv0pVUCBAgQIECAAAECBAgQIHAfAYHlfdxv0OtM2JQFkU1Hp4PNcCZZ6VLjQnt1ISBLJjQX8hXbSvbc3YOi3YqjPB2EFdaq4F0ed9g3nuVa2K+d2oOt0ymz2deL849nVXZffTCcbZku+myb6WYrPCqs/wq9aJIAAQIECBAgQIAAAQIECNxTQGB5T/2r+l4hsIxB1nhcIbxKg5uZvsN+XZgz/12Xj3B2WHeG4o3O0hx7nri/KAjLgrZ2rNnaLQksn2GdGs5TZnEt43dXprf5Waj18L2fpQA/qfHppeInlvd2L7c1UNXVkTHerjMtESBAgAABAgQIECBAgACBbQUEltt637C3mdCwcHZcMbxKtsvOvBuPMtkuvjDTd3w5C9Ti0494W7RbcSKnwreu67F/dz8Pgcvjztb5SdbplNmp19Pl7Dyrj0N9aH4sKguC47bntRn3usVttoa3aFIbBAgQIECAAAECBAgQIEBgZwICy50tyPLhlIOLeDbZOMAqhVdd4DKcQTgXwJSfL/fdj70Ycvavrn4nn9tVHW4d6i3sr51jc3Zdu/30TL/Smsfvv+xrY611Cu3OhX1XrUdp51Nmp14ftdm9fzrPo3V0Rpuj5q+/u2TNov9GP3p0/aS0QIAAAQIECBAgQIAAAQIEUgGBZerxUI+6QGW4pLULsd7r92oIIpsJFbdrzh5Ltotnln0NBiH4SC8H717ugp2h72GnZa/n29/ucQhTj5wdd1ZfWwdTMWyaObOvH3vcrqrq2fVJLhcOLslz8dfE59ex7++MOzHo2+pXwmMQOx+QxpqYBrvjacVx94FufWS/6H9qncYd3OJ+6HcYY6HRtmaPfwdnYS9PESBAgAABAgQIECBAgACB3QgILHezFJcNpAsOw/dFNuHJTKCRbNeGVqVLiUNoGcLMNNDMxxfDnOG7KvPgLAZAyXcGZoFZ3uotHsd+j4Y6SzvaOrBsxjUKnDq7UtAW/cthY7LecT1nwrXodbN1ukeYt8DsqEncP6/POJfS2Ypxn+hb2mZpnS3dbub9ne4ea6McZqfbekSAAAECBAgQIECAAAECBPYnILDc35pcN6JFgcZ1XbzU3m0oVQ4F7+sQQqk8YAuDasO5mdfuO269XyWw8P0dQ+ibhPZXDdjOBAgQIECAAAECBAgQIEDgfAGB5flm+95jYaCx70nsaHSt5w4DyxPrLLDcUQ3dcign1r3tKmwzf4n8LQekLQIECBAgQIAAAQIECBAgcHsBgeXtTe/b4pJA474jfLDeC9/tefcZnB6TwPLui7TKALrL2ktfEdB051LwVdA1SoAAAQIECBAgQIAAAQKbCwgsNydfuUOB5QrAo+/2nPkeyBU6nTYZz5xb8INCAssp3yM/0wWVzffF7vBs30eGNXYCBAgQIECAAAECBAgQ2KWAwHKXy2JQBAgQIECAAAECBAgQIECAAAECBF5TQGD5mutu1gQIECBAgAABAgQIECBAgAABAgR2KSCw3OWyGBQBAgQIECBAgAABAgQIECBAgACB1xQQWL7mups1AQIECBAgQIAAAQIECBAgQIAAgV0KCCx3uSwGRYAAAQIECBAgQIAAAQIECBAgQOA1BQSWr7nuZk2AAAECBAgQIECAAAECBAgQIEBglwICy10ui0ERIECAAAECBAgQIECAAAECBAgQeE0BgeVrrrtZEyBAgAABAgQIECBAgAABAgQIENilgMByl8tS1/X3oa6qqq4+vuq6/qk/36r28eF7rwNec1xf9aGxqA51q/HrfWSzZr/ntf0Tx1W915+/z9u33frh1/wO63SxWXhPte+vC9bKLvcTuHjNrxjypX3+/qzfq6oufm7HNt8+658rhrZo19iXP08WcTUbXf15vrgnGxIgQIAAAQIECBAgUBIQWJZU9vBccoBZ118fTWB3YRB28/l0wdT7r9UPs8PI0yAshrnb9b8AsF2vK9fnjDVv62GLoGPB1IdN7rBOZ5gN42zuCSxTjyseHQvlrmh2dteL13y2xdMvXNrnMZvY5hbv49hXCOj39efJaf57btEFl1d+tt9zAvomQIAAAQIECBAg8KACAsu9Llw40I2h3L4OMLcOLEO4FA/sw8F3tNnDErbrc+3Zemes+T4Dyzus0xlmaZ0ILFOPKx4dC+WuaHZ214vXfLbF0y9c2ufWNnMzuXT8c+3d5Pn4Dxzd1QPtFQXtmfThcfy8H/cV5tFvO9kmvK9PtTNu8+T9bpzFs2RP7msDAgQIECBAgAABAgQuFRBYXiq39n7ZAWZ3lkd3SfTaXZ9u/86B5V5CgB7qRuHXGWv+EIHlFut0hlm/XO2dG61Z2uhrPtpinceyF6/5uJEz71/a59Y2c9O6dPxz7a36fPnPl9P/aBcC0OQfjsJzk2DznAmUx3NOC7YlQIAAAQIECBAgQOB8AYHl+Wb72CM7AB0PqnwJWzhw6888mQs/57cbvtOrfEZMfsbjZPvkQLIZ8ehAMF6yGMa3/tksYZ5XHchG9Y3Cr7Dm/dlF/VqmZyRF96lhGGc/586g2S7u07Vdqo2wb9/n9ZdIng4gou9tbrv+stqdqcnBOLc4xyzU2EmzfLu8zwXzP/fzIHu/dd+VW+jnyHZFz36u0+9tzLfPPy+6r3ro6ird9gKPwlS2eSpfy67ekvfiEdNujN17rfGJDq1Vv1/+3sv7zF9faebx82jyHrquv+6zKJtDO/fsubybmW269q6poc53Uq95/x4TIECAAAECBAgQIHBTAYHlTTm3bCwPn2Lf4fnxQWQhzOgOhLODuHhAPN63CRWTx00/pw7gYrg1bj8cVPdh2dBOHpIVD1jj9G51G+d6k+8FLZjfapwz7bTrl1iONwzW+bpN6iBs14RMfVulupq2d/0aDX2vHwSU5lRYs4lP/O7YQh03Zr1vqf2pWfu+6Z3Dei3qc7y2c/dLY2i2nc5zunalsca5Z8Hj92H6AzJhDkkolwwztD+ee9hnMBz90NhJ26Tx/TworGV91Ga6Nt1kuuff397r5r3Rrldzv/3Rsc5yeM+U1u6rPoytVxLq6qgJZMfvj2s7K81nzinrK3ym53V4/LMya6P4MDcvbuRJAgQIECBAgAABAgRuLCCwvDHols1Ng4e6Lh0glw/Y8oOwhQeF7QTzfbNZz5zpEn8sZzigDAen+cH10YP8rK+LH870fVF759hd1MFkp/KaDpu1r2dBQlcv43BhxiBbv+l+TT/Xz7kb44mzpoYpXX4vm0/X0HT8ZdO81stmE6OFNbysz2VTX/Z5kM8ntJ0bLRx/u/eJbSc2ocvJeNsxVG1IN57x3P7jbfZwv7iWR22mNdjNIzwf3r/d/GNwHOovhuVH219ZJfSdhM5Xdjmpiba9WLNf9edbeob08GdJ13H3mTLUUPf42s+Ybj2GkPjKSdqdAAECBAgQIECAAIFFAgLLRUx73SgeyA2/1j09uJ9u080mO1g+68B3rs2u5e4gcRyMRb98v+7xLQ94Y0+b3p5ld5uRFcORcdMh/BkO6LP1brfN1yM0kMyntF+33ckxjMdzx/vlcebzmrGYBLPl7ebed83Zw8Ma5Ajlti4Pg6ftTcaVB5NxSMmax68IKL2H4w6j22zf0StDsJ3/o0SzUb7fpGbTlvb9aGrfjjefYzKJvAbji+nzaYjX9TN8ZobHR+sstrv323xuYbzBsMrOhu9cCu+vUEf5mfvXzH7+z7RrWrUvAQIECBAgQIAAAQLHBASWx3Qe4LU0jOkOdJMzQfqDvfTMlP47+uKZOnNBRtFg5uA8bJuOadxAfkCaPx5v+wD3o20pjFl5+PPGseM09OjCofxMo5l1TEKWsEaj7ybsaye5lDz2u7/bslXJZ+Y9klyiXDabBIMtQ+ijt8v8Y/30r2f9x/fmGaTpXKefBzHkSdZw1H8MV9N2TgwgqZd828x5/HLYr/+8ElgGndTseGDZ7HKizsbmO76fznM00LxO+pdSp+bptm778HZw6Wus3/eCO/37dWGQf0EXdiFAgAABAgQIECBAYBAQWA4Wj3lvHDS2B1RZKHLy+ybDtMPBWAwsjmOUQ5u4z3zYke8XwrALgpnY1y5uz7K7zYjnjYf2xyFae38SrObrEfZN5jMNBYYeHuNe2Sqf14zFZIrl7cbWk12aJ4JpepZYua3i/kufPPV5MH79SJsn5zPeN6mX8QvN/dx59Hq+n8Ay4KRm3VrEz/WuZoYzLEeezd1inWXb7PLhsXnNvU9KTtMzLrsQM/pdNvnyZ8hlbdmLAAECBAgQIECAAIFlAgLLZU473qo7aGvOICmHUulB3fxEjh0w5nudaHMuFJk8f06f+RiufRz6noR4l7R7wuOSJk/ssyxQ6uZ4+B5qJG22ez0/+yhve62D9VsECel8yo/y+bRbhXBsCH6WruEys+JI8oDuWJhXbGDJk8NaFz8PJmOYafOs8LBsElsu+jdR5q/39Adbzuoztn7qNqxrf9bdqe0vfb1cP12NT0O0rpfyPnnI2znFwK2zHuq2MN6la1zY9aynYjh6g39wSueYj2LOKa27uc+Tru25Ncj7Kj1O+ylt4TkCBAgQIECAAAECBG4vILC8venmLbYHZG+H+vA2c1AWgoA8mMoHGg/s0u1KvxIeL72LB9GTqNOnewAAEsNJREFUlrofR0jCwNKBdum5vK2VHsfAKvtetMt6mzugvqy1RXstXNMYmJR/ybdwIB5CiKQGbhhMDHMLa18NP5AxvHbje/mc2sfv9XvzAx7jsGWRacFsJnxLDPttsvfMoj7P8zj1eTAX7KS9hJrO3x+lXwmPwWv2I09De4X3eb4mzcbBYtlZ3kPrx+8NdVYln0fH97rk1e7zc1jfbh2aX/ee+VyObuMabDtOP0/SdjPL78PMjxQN47hkLkv26cbVfI3BtZdIZ3MqdV6oja6OR32HbZL3dLjC4LoxduPL38+lYXqOAAECBAgQIECAAIHbCQgsb2d5v5ZioHTswLHfZvw9eYWD2njQ13+v3eiAMJlhDDSG9tIDulOvN40tOFBN+rzlg9D3TUKMNGC45SiPtTUEBmENSnOJ6zkJRZqWg0G/1l075cDonG2PjXp4bVlwNmx/1b3o0M61q+m2/9zl5Pukc0hrvXC2YB9QDu+P2dDkZJ9nzrxvb+69G8c7HltVlwK9bo1G2+Ve/dCm9ZHW0anX1wosR3MtvT/68d/mTuLVWnXzHlsk2xTfe+nnydHA8pw6u80Uh1Zinc3WxLDpsXvxc2xsVNw+eQ+X6zWG3sl3tF697uX3fHGMniRAgAABAgQIECBA4GYCAsubUWrodQXSgGFXDuEgvxwGOBDf1VoZzDoCNwrW1hmcVvcv4HNy/2tkhAQIECBAgAABAs8oILB8xlU1p80FimfrbT6KaYftuGbPMHIgPhXzzHMJxDO95882fa75ms3tBXxO3t5UiwQIECBAgAABAgROCwgsTxvZgsBJgfSyzZObb7LB6TE5EN9kIXRyF4F4qXHpUve7DEinDylw+nP0Iadl0AQIECBAgAABAgR2LyCw3P0SGeCjCPQBSf5DJRtPYPiOvMJ3lCZjEVgmHDt8MKzl6Hsks+89rO5cbztkMyQCVwsMn+dzP5p0dRcaIECAAAECBAgQIEDgiIDA8giOlwgQIECAAAECBAgQIECAAAECBAgQ2FZAYLmtt94IECBAgAABAgQIECBAgAABAgQIEDgiILA8guMlAgQIECBAgAABAgQIECBAgAABAgS2FRBYbuutNwIECBAgQIAAAQIECBAgQIAAAQIEjggILI/geIkAAQIECBAgQIAAAQIECBAgQIAAgW0FBJbbeuuNAAECBAgQIECAAAECBAgQIECAAIEjAgLLIzheIkCAAAECBAgQIECAAAECBAgQIEBgWwGB5bbeeiNAgAABAgQIECBAgAABAgQIECBA4IiAwPIIzrkvfX1UdVU1/x/qr3N3tj0BAgQIECBAgAABAgQIECBAgAABArXAcoUi6IJLoeUKtJokQIAAAQIECBAgQIAAAQIECBB4cgGB5RoL/Puzfq/e68/fazSuTQIECBAgQIAAAQIECBAgQIAAAQLPKyCwXGNt28Cyqg/fazSuTQIECBAgQIAAAQIECBAgQIAAAQLPKyCwXGNtBZZrqGqTAAECBAgQIECAAAECBAgQIEDgBQQElmssssByDVVtEiBAgAABAgQIECBAgAABAgQIvICAwHKVRf6qD5VLwleh1SgBAgQIECBAgAABAgQIECBAgMBTCwgsV1nen/rzraqrt8/6Z5X2NUqAAAECBAgQIECAAAECBAgQIEDgOQUElmuu6/ehrirB5ZrE2iZAgAABAgQIECBAgAABAgQIEHguAYHlKusZzrD8+FqldY0SIECAAAECBAgQIECAAAECBAgQeFYBgeUaK+tHd9ZQ1SYBAgQIECBAgAABAgQIECBAgMALCAgs11hkgeUaqtokQIAAAQIECBAgQIAAAQIECBB4AQGB5RqLLLBcQ1WbBAgQIECAAAECBAgQIECAAAECLyAgsFxjkQWWa6hqkwABAgQIECBAgAABAgQIECBA4AUEBJZrLLLAcg1VbRIgQIAAAQIECBAgQIAAAQIECLyAgMByhUX++qjqqjrUfiN8BVxNEiBAgAABAgQIECBAgAABAgQIPLWAwPKGy9sFlU1Y+V5//r5hw5oiQIAAAQIECBAgQIAAAQIECBAg8CICAssXWWjTJECAAAECBAgQIECAAAECBAgQIPAIAgLLR1glYyRAgAABAgQIECBAgAABAgQIECDwIgICyxdZaNMkQIAAAQIECBAgQIAAAQIECBAg8AgCAstHWCVjJECAAAECBAgQIECAAAECBAgQIPAiAgLLF1lo0yRAgAABAgQIECBAgAABAgQIECDwCAICy0dYJWMkQIAAAQIECBAgQIAAAQIECBAg8CICAssXWWjTJECAAAECBAgQIECAAAECBAgQIPAIAgLLR1glYyRAgAABAgQIECBAgAABAgQIECDwIgIvHlh+1Yeqqqvm/4+vF1ly0yRAgAABAgQIECBAgAABAgQIECCwX4EXDyzjwoTgUmgZQdwSIECAAAECBAgQIECAAAECBAgQuIuAwDKw//x6r6u3z/rnLsugUwIECBAgQIAAAQIECBAgQIAAAQIEGgGBZaiDNrCsDrULw70xCBAgQIAAAQIECBAgQIAAAQIECNxPQGAZ7AWW9ytCPRMgQIAAAQIECBAgQIAAAQIECBCIAgLLICGwjCXhlgABAgQIECBAgAABAgQIECBAgMD9BASW0f77UFcuCY8abgkQIECAAAECBAgQIECAAAECBAjcRUBgGdl/f9bvVVW///KzO5HELQECBAgQIECAAAECBAgQIECAAIGtBQSWmfjXR1VXgstMxUMCBAgQIECAAAECBAgQIECAAAEC2wgILKNzOMPy8B2fcEuAAAECBAgQIECAAAECBAgQIECAwNYCAssg7kd3ti49/REgQIAAAQIECBAgQIAAAQIECBCYCggsg4nAclocniFAgAABAgQIECBAgAABAgQIECCwtYDAMogLLLcuPf0RIECAAAECBAgQIECAAAECBAgQmAoILIOJwHJaHJ4hQIAAAQIECBAgQIAAAQIECBAgsLWAwDKICyy3Lj39ESBAgAABAgQIECBAgAABAgQIEJgKCCxbk6/6UFV19fE1FfIMAQIECBAgQIAAAQIECBAgQIAAAQKbCbx4YBmCyiasfPusfzZj1xEBAgQIECBAgAABAgQIECBAgAABAiWBFw8sSySeI0CAAAECBAgQIECAAAECBAgQIEDgXgICy3vJ65cAAQIECBAgQIAAAQIECBAgQIAAgYmAwHJC4gkCBAgQIECAAAECBAgQIECAAAECBO4lILC8l7x+CRAgQIAAAQIECBAgQIAAAQIECBCYCAgsJySeIECAAAECBAgQIECAAAECBAgQIEDgXgICy3vJ65cAAQIECBAgQIAAAQIECBAgQIAAgYmAwHJC4gkCBAgQIECAAAECBAgQIECAAAECBO4lILC8l7x+CRAgQIAAAQIECBAgQIAAAQIECBCYCDxeYPn7s36vqrqqqvr9189kQp4gQIAAAQIECBAgQIAAAQIECBAgQOBxBR4vsIzWIbgUWkYQtwQIECBAgAABAgQIECBAgAABAgQeX+BxA8u6rr8+qrr6+Hr8VTADAgQIECBAgAABAgQIECBAgAABAgRagccPLN8+axeGq2YCBAgQIECAAAECBAgQIECAAAECzyEgsHyOdTQLAgQIECBAgAABAgQIECBAgAABAk8hILB8imU0CQIECBAgQIAAAQIECBAgQIAAAQLPIfDQgeXPr/e6ckn4c1SiWRAgQIAAAQIECBAgQIAAAQIECBCo6/qhA8v6+1BXVVUfvq0lAQIECBAgQIAAAQIECBAgQIAAAQLPIPDYgWW7Aj/151sluHyGajQHAgQIECBAgAABAgQIECBAgACBlxd47MCyPcPyvf78/fLrCIAAAQIECBAgQIAAAQIECBAgQIDAUwg8dGD59VH5DsunKEOTIECAAAECBAgQIECAAAECBAgQINAJCCxVAgECBAgQIECAAAECBAgQIECAAAECuxEQWO5mKQyEAAECBAgQIECAAAECBAgQIECAAAGBpRogQIAAAQIECBAgQIAAAQIECBAgQGA3AgLL3SyFgRAgQIAAAQIECBAgQIAAAQIECBAg8LiB5e/P+r2q6vdfP1aRAAECBAgQIECAAAECBAgQIECAAIEnEXi8wDIElVVV1dXH15Msg2kQIECAAAECBAgQIECAAAECBAgQINAIPF5gad0IECBAgAABAgQIECBAgAABAgQIEHhaAYHl0y6tiREgQIAAAQIECBAgQIAAAQIECBB4PAGB5eOtmRETIECAAAECBAgQIECAAAECBAgQeFoBgeXTLq2JESBAgAABAgQIECBAgAABAgQIEHg8AYHl462ZERMgQIAAAQIECBAgQIAAAQIECBB4WgGB5dMurYkRIECAAAECBAgQIECAAAECBAgQeDwBgeXjrZkREyBAgAABAgQIECBAgAABAgQIEHhaAYHl0y6tiREgQIAAAQIECBAgQIAAAQIECBB4PIFNAsufX+91VVV1Vb3Xn78fD8mICRAgQIAAAQIECBAgQIAAAQIECBDYRmCTwDJOpQsuhZbRwy0BAgQIECBAgAABAgQIECBAgAABAqnApoFlXX/Vh6qqD9/pIDwiQIAAAQIECBAgQIAAAQIECBAgQIBAI3CXwPL91w99AgQIECBAgAABAgQIECBAgAABAgQITAQElhMSTxAgQIAAAQIECBAgQIAAAQIECBAgcC8BgeW95PVLgAABAgQIECBAgAABAgQIECBAgMBEYOPA8qf+fKtql4RP1sETBAgQIECAAAECBAgQIECAAAECBAhs/x2Wdf31UdVVdai/8BMgQIAAAQIECBAgQIAAAQIECBAgQCAT2PgMy9D778/6vRJcZmvhIQECBAgQIECAAAECBAgQIECAAIGXF9g8sGzPsHz7rP1O+MvXHgACBAgQIECAAAECBAgQIECAAAECE4GNA8uv+lD5DsvJKniCAAECBAgQIECAAAECBAgQIECAAIFWQGCpEAgQIECAAAECBAgQIECAAAECBAgQ2I2AwHI3S2EgBAgQIECAAAECBAgQIECAAAECBAgILNUAAQIECBAgQIAAAQIECBAgQIAAAQK7ERBY7mYpDIQAAQIECBAgQIAAAQIECBAgQIAAgU0Dy59f73VVvdefv8ETIECAAAECBAgQIECAAAECBAgQIEBgKrBJYNkFlVVdVVV9+J4OwjMECBAgQIAAAQIECBAgQIAAAQIECBBoBDYJLFETIECAAAECBAgQIECAAAECBAgQIEBgiYDAcomSbQgQIECAAAECBAgQIECAAAECBAgQ2ERAYLkJs04IECBAgAABAgQIECBAgAABAgQIEFgiILBcomQbAgQIECBAgAABAgQIECBAgAABAgQ2ERBYbsKsEwIECBAgQIAAAQIECBAgQIAAAQIElggILJco2YYAAQIECBAgQIAAAQIECBAgQIAAgU0EBJabMOuEAAECBAgQIECAAAECBAgQIECAAIElAgLLJUq2IUCAAAECBAgQIECAAAECBAgQIEBgEwGB5SbMOiFAgAABAgQIECBAgAABAgQIECBA4JjAn/7pn7YvCyyPKXmNAAECBAgQIECAAAECBAgQIECAAIHVBWJY2XQksFydWwcECBAgQIAAAQIECBAgQIAAAQIECMwJjMPKZhuB5ZyU5wkQIECAAAECBAgQIECAAAECBAgQWFUgDyubzgSWq5JrnAABAgQIECBAgAABAgQIECBAgACBkkAprGy2E1iWtDxHgAABAgQIECBAgAABAgQIECBAgMBqAqWwMj4nsFyNXcMECBAgQIAAAQIECBAgQIAAAQIECOQCMZgcPz9+TmA5lnGfAAECBAgQIECAAAECBAgQIECAAIHVBMbBZOwkf05gGWXcEiBAgAABAgQIECBAgAABAgQIECCwmkAeTDYdlZ4TWK62BBomQIAAAQIECBAgQIAAAQIECBAgQKARKAWTpeeabQWWaoYAAQIECBAgQIAAAQIECBAgQIAAgd0IHA0s/+p//q/67/7u/+1msAZCgAABAgQIECBAgAABAgQIECBAgMBzCzR5ZJNL/vz9H/v//yQ++Ju//d2++N/++1/W/megBtSAGlADakANqAE1oAbUgBpQA2pADagBNaAG1MDaNdCElU0uGTPK5rYPLMdPuj8kuixYqAE1oAbUgBpQA2pADagBNaAG1IAaUANqQA2oge1qQGA5Ot1U4W1XeKxZqwE1oAbUgBpQA2pADagBNaAG1IAaUANqQA2UakBgKbBMTrktFYnnfHioATWgBtSAGlADakANqAE1oAbUgBpQA2pADWxVAwJLgaXAUg2oATWgBtSAGlADakANqAE1oAbUgBpQA2pADeymBgSWinE3xbhVSq8f/yKkBtSAGlADakANqAE1oAbUgBpQA2pADaiB/dbA/wfUEuK/B9he0gAAAABJRU5ErkJggg==)\n",
        "3.   Click on Add Request header and type the following.\n",
        "![image.png](data:image/png;base64,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)\n",
        "4. Click on the test button and you will receive a success message. Test the same IP address in a new tab and you should receive the following message:\n",
        "\n",
        "`{\"quotes\":{\"aliases\":{},\"mappings\":{\"properties\":{\"quote\":{\"type\":\"text\"},\"vector\":{\"type\":\"dense_vector\",\"dims\":768}}},\"settings\":{\"index\":{\"creation_date\":\"1595315948869\",\"number_of_shards\":\"1\",\"number_of_replicas\":\"0\",\"uuid\":\"FR44TBdjToG9xf54RpFqwQ\",\"version\":{\"created\":\"7080099\"},\"provided_name\":\"quotes\"}}}}`\n",
        "\n",
        "\n",
        "The quotes/titles of the abstract are read from a file. Then the dense vector is computed by calling sentence-encoder, and indexed into Elasticsearch in bulk.\n"
      ]
    },
    {
      "cell_type": "markdown",
      "metadata": {
        "id": "W0LcpwQg0Ybz"
      },
      "source": [
        "## 3.1 Indexing and Embedding\n",
        "\n",
        "Here the dataset is feed as input to the process of index creation. Along with the title, its embedded values are calculated through a function and then indexed with the title."
      ]
    },
    {
      "cell_type": "code",
      "metadata": {
        "id": "u-sQ8nEIyzpK",
        "colab": {
          "base_uri": "https://localhost:8080/",
          "height": 34
        },
        "outputId": "d48f6917-0c68-4220-e158-786853b4d668"
      },
      "source": [
        "es = Elasticsearch([{'host':'3.1.26.243','port':9200}])\n",
        "def getQuotes():\n",
        "  for line in stackoverflow_dataset[0:200]: # Change to 'stackoverflow_dataset' if you want to search through the Academia Staackexchange.\n",
        "        quote = line\n",
        "        yield {\n",
        "            \"_index\": 'quotes', # Here 'quotes' is the index name. This is the name that is appended at the end of the IP address.\n",
        "            \"quote\" : quote,\n",
        "            \"vector\" : embedder.encode(quote)[0].tolist()\n",
        "              }\n",
        "\n",
        "# bulk is used here to append multiple documents.\n",
        "bulk(client=es, actions = getQuotes(), chunk_size=300000, request_timeout = 120)"
      ],
      "execution_count": null,
      "outputs": [
        {
          "output_type": "execute_result",
          "data": {
            "text/plain": [
              "(200, [])"
            ]
          },
          "metadata": {
            "tags": []
          },
          "execution_count": 62
        }
      ]
    },
    {
      "cell_type": "markdown",
      "metadata": {
        "id": "mJjsQ4pgZi6m"
      },
      "source": [
        "For any dataset, the output would be the number of titles followed by a` [ ]` bracket.\n",
        "\n",
        "Eg : `(x,[ ])`"
      ]
    },
    {
      "cell_type": "markdown",
      "metadata": {
        "id": "mR4ccYOy5M0U"
      },
      "source": [
        "# 4.  ElasticSearch\n",
        "\n",
        "The following cell calculates the scores between the query and the titles/quotes indexed in bulk. It then displays the top 10 BERT results and the top ten MLT results.\n",
        "\n",
        "\n",
        "\n",
        "1.   BERT - Bidirectional Encoder representational Transformer\n",
        "2.   MLT - More Like This\n",
        "\n",
        "\n",
        "\n",
        "\n",
        "\n",
        "\n"
      ]
    },
    {
      "cell_type": "markdown",
      "metadata": {
        "id": "qEujywFzz_kF"
      },
      "source": [
        "## 4.1 Relevancy Scoring and Entering the query\n",
        "\n",
        "The `inQuiry` takes the query typed by the user and returns back similiar queries calculated by the said two methods."
      ]
    },
    {
      "cell_type": "code",
      "metadata": {
        "id": "YV-sKGqn07We",
        "colab": {
          "base_uri": "https://localhost:8080/",
          "height": 70
        },
        "outputId": "6bf0642d-1bf1-4293-efd9-abdd9d739691"
      },
      "source": [
        "client = Elasticsearch([{'host':'3.1.26.243','port':9200}])\n",
        "\n",
        "def findRelevantHits (inQuiry):\n",
        "    inQuiry_vector = embedder.encode([inQuiry])[0].tolist()\n",
        "    queries = {\n",
        "        'bert': {\n",
        "           \"script_score\": {\n",
        "              \"query\": {\n",
        "                 \"match_all\": {}\n",
        "               },\n",
        "               \"script\": {\n",
        "                  \"source\": \"cosineSimilarity(params.inQuiry_vector, doc['vector']) + 1.0\",\n",
        "                  \"params\": {\n",
        "                     \"inQuiry_vector\": inQuiry_vector\n",
        "                   }\n",
        "                }\n",
        "           }\n",
        "        },\n",
        "        'mlt': {\n",
        "                \"more_like_this\": {\n",
        "                        \"fields\": [\"quote\"],\n",
        "                        \"like\": inQuiry,\n",
        "                        \"min_term_freq\": 1,\n",
        "                        \"max_query_terms\": 50,\n",
        "                        \"min_doc_freq\": 1\n",
        "                }\n",
        "        }\n",
        "    }\n",
        "\n",
        "    result = {'bert' : [], 'mlt' : [] }\n",
        "\n",
        "    for metric, query in queries.items():\n",
        "        body = { \"query\": query, \"size\" : 5, \"_source\" : [\"quote\"] }\n",
        "        response = client.search(index='quotes',body=body, request_timeout=120)\n",
        "        result[metric] = [a['_source']['quote'] for a in response['hits']['hits']]\n",
        "    return result\n",
        "\n",
        "\n",
        "# Enter your Query in the next line and the ElasticSearch will retrieve top 10 titles.\n",
        "inQuiry = \"BBC Japan Broadcasting\"\n",
        "result = findRelevantHits (inQuiry)"
      ],
      "execution_count": null,
      "outputs": [
        {
          "output_type": "stream",
          "text": [
            "/usr/local/lib/python3.6/dist-packages/elasticsearch/connection/base.py:177: ElasticsearchDeprecationWarning: The vector functions of the form function(query, doc['field']) are deprecated, and the form function(query, 'field') should be used instead. For example, cosineSimilarity(query, doc['field']) is replaced by cosineSimilarity(query, 'field').\n",
            "  warnings.warn(message, category=ElasticsearchDeprecationWarning)\n"
          ],
          "name": "stderr"
        }
      ]
    },
    {
      "cell_type": "markdown",
      "metadata": {
        "id": "i_8RK-iDLN-i"
      },
      "source": [
        "# 5. Results\n",
        ""
      ]
    },
    {
      "cell_type": "markdown",
      "metadata": {
        "id": "pVwljZo-L0iV"
      },
      "source": [
        "## 5.1 Result Count\n",
        "\n",
        "The following cell displays how many queries are retrieved using the BERT and MLT standards."
      ]
    },
    {
      "cell_type": "code",
      "metadata": {
        "id": "5_dExpgs-Q_K",
        "colab": {
          "base_uri": "https://localhost:8080/",
          "height": 50
        },
        "outputId": "f75581de-b779-4d96-b5d2-ce7a2fe97c8a"
      },
      "source": [
        "count = len(result['bert'])\n",
        "mltcount = len(result['mlt'])\n",
        "print(count)\n",
        "print(mltcount)"
      ],
      "execution_count": null,
      "outputs": [
        {
          "output_type": "stream",
          "text": [
            "5\n",
            "5\n"
          ],
          "name": "stdout"
        }
      ]
    },
    {
      "cell_type": "markdown",
      "metadata": {
        "id": "9AxvOu5TMVbO"
      },
      "source": [
        "## 5.2 The relevant queries\n",
        "\n",
        "This cell displays all the top 5 queries matched and displayed in the descending order of cosine similarity score."
      ]
    },
    {
      "cell_type": "code",
      "metadata": {
        "id": "kMo_eCxa5OxX",
        "colab": {
          "base_uri": "https://localhost:8080/",
          "height": 269
        },
        "outputId": "0d591844-f8b9-4f02-9bdf-1c4f56b2c171"
      },
      "source": [
        "print(\"The relevant documents to the query are: \\n\")\n",
        "\n",
        "for i in range(count):\n",
        "  print(result['bert'][i])\n",
        "\n",
        "print(\"\\nMore queries like this: \\n\")\n",
        "\n",
        "for i in range(mltcount):\n",
        "  print(result['mlt'][i])"
      ],
      "execution_count": null,
      "outputs": [
        {
          "output_type": "stream",
          "text": [
            "The relevant documents to the query are: \n",
            "\n",
            "When did BBC Japan begin broadcasting?\n",
            "What is the Japan Broadcasting Corporation called?\n",
            "When did comic supplements start showing up in Japan?\n",
            "What is the acronym for British Broadcasting Corporation?\n",
            "What program with a direction in its name does the BBC broadcast from Southampton?\n",
            "\n",
            "More queries like this: \n",
            "\n",
            "When did BBC Japan begin broadcasting?\n",
            "What is the Japan Broadcasting Corporation called?\n",
            "For how long did the BBC alternate different broadcasting systems?\n",
            "Where did the BBC continue broadcasting from in October of 1936?\n",
            "How many different areas does BBC One accommodate with customized broadcasting?\n"
          ],
          "name": "stdout"
        }
      ]
    },
    {
      "cell_type": "markdown",
      "metadata": {
        "id": "BvUY0x3QLacL"
      },
      "source": [
        "Thus, the relevant titles are extracted by ElasticSearch in a very marginal time."
      ]
    },
    {
      "cell_type": "markdown",
      "metadata": {
        "id": "pWlJ_471K6re"
      },
      "source": [
        "## 5.3 Side-by-Side Comparision\n",
        "\n",
        "According to research and famous blogs, MLT retrieves better results when the query has lesser words or words which are in Vocabulary.\n",
        "\n",
        "BERT is always better as it deals with Out of Vocabulary (OOV) Words."
      ]
    },
    {
      "cell_type": "code",
      "metadata": {
        "id": "SW0nJJ1HFMNo",
        "colab": {
          "base_uri": "https://localhost:8080/",
          "height": 70
        },
        "outputId": "9498c9fc-78c7-4fda-8f20-c5e79b4a95f7"
      },
      "source": [
        "for k , v in result.items(): # iterating freqa dictionary\n",
        "        print(k+\"\\t\", v)"
      ],
      "execution_count": null,
      "outputs": [
        {
          "output_type": "stream",
          "text": [
            "bert\t ['When did BBC Japan begin broadcasting?', 'What is the Japan Broadcasting Corporation called?', 'When did comic supplements start showing up in Japan?', 'What is the acronym for British Broadcasting Corporation?', 'What program with a direction in its name does the BBC broadcast from Southampton?']\n",
            "mlt\t ['When did BBC Japan begin broadcasting?', 'What is the Japan Broadcasting Corporation called?', 'For how long did the BBC alternate different broadcasting systems?', 'Where did the BBC continue broadcasting from in October of 1936?', 'How many different areas does BBC One accommodate with customized broadcasting?']\n"
          ],
          "name": "stdout"
        }
      ]
    },
    {
      "cell_type": "markdown",
      "metadata": {
        "id": "JZrOJjSRU2gl"
      },
      "source": [
        "# 6. Conclusion\n",
        "\n",
        "This model has a performance mark of about 85%. In the future, this can be integrated into a search interface."
      ]
    }
  ]
}